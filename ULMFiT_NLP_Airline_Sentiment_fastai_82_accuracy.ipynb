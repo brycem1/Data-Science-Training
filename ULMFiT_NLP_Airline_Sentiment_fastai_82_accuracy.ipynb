{
 "cells": [
  {
   "cell_type": "markdown",
   "metadata": {},
   "source": [
    "# fast.ai: Universal Language Model Fine-tuning for Sentiment Classification "
   ]
  },
  {
   "cell_type": "markdown",
   "metadata": {},
   "source": [
    "## NLP Sentiment on Twitter US Airlines Sentiment Kaggle Dataset"
   ]
  },
  {
   "cell_type": "markdown",
   "metadata": {},
   "source": [
    "## By Bryce Murphy"
   ]
  },
  {
   "cell_type": "markdown",
   "metadata": {},
   "source": [
    "1: Abstract\n",
    "========\n",
    "\n",
    "Inductive transfer learning has significantly left its footprint on computer vision neural networks. However, current NLP methods frequently rely on training models from scratch and introducing problem-specific adaptations. The Universal Language Model Fine-tuning (ULMFiT) models [1] applies a potent transfer learning technique that can be applied to any NLP problem, as well as working with a finely-tuned language model. In this notebook, an accuracy of 82.5% was achieved  for a ternary classification problem involving the Twitter US Airline dataset [2]. "
   ]
  },
  {
   "cell_type": "markdown",
   "metadata": {},
   "source": [
    "2: What is an ULMFiT model?\n",
    "=================\n",
    "\n",
    "ULMFiT overcomes limitations in previous NLP transfer models by not requiring millions of domain specific corpuses to train a Language Model (LM) or randomly initialising model parameters for a pretrained model. The chosen model choice is the leading language model ASGD Weight-Dropped LSTM (AWD-LSTM) \\[2\\], which consists of using a weight-dropped LSTM, DropConnect, and Non-monotonically Triggered Average SGD. \n",
    "\n",
    "ULMFiT consists of three phases [1]:\n",
    "\n",
    "- 1: General-domain LM pretraining.\n",
    "- 2: Target task LM fine-tuning.\n",
    "- 3: Target task classifier fine-tuning."
   ]
  },
  {
   "cell_type": "markdown",
   "metadata": {},
   "source": [
    "## 2.1: General-domain LM pretraining \n",
    "\n",
    "The LM is pretrained on a general domain corpus to capture general features of the language in different layers [1].\n",
    "AWD-LSTM was pre-trained using Wikitext-103 which consists of 28,595 preprocessed Wikipedia documents and 103 million words [2].\n"
   ]
  },
  {
   "cell_type": "markdown",
   "metadata": {},
   "source": [
    "## 2.2: Target task LM fine-tuning \n",
    "\n",
    "The full LM is fine-tuned on target task data using discriminative fine-tuning ('Discr') and slanted triangular learning rates (STLR) to learn task-specific features [1]. The pretrained general-domain data, in spite of its complexity will most likely come from a different dataset. Hence, we can fine-tune the language model on the target problem. After training the general-domain LM, this phase will converge quicker as it only needs take into account the variation in the target problem data, which enables sturdy LM models not just for large datasets but small ones too. "
   ]
  },
  {
   "cell_type": "markdown",
   "metadata": {},
   "source": [
    "### 2.2.1: Discriminative fine-tuning\n",
    "\n",
    "Considering that distinct layers capture distinct types of information, they should be fine-tuned to different thresholds. Rather than using the same learning rate for all layers of the model, discriminative fine-tuning enables tuning different learning rates for each layer [1].\n",
    "In the 2018 paper [Howard et al., 2018][1], it was empirically found to initially choose a learning rate $\\eta^{L}$ for the last layer and only fine-tune the last layer where $L$ is the number of layers in the model. The learning rate $\\eta^{l-1} = \\eta^l/2.6$ works best for lower $l$-th layers."
   ]
  },
  {
   "cell_type": "markdown",
   "metadata": {},
   "source": [
    "### 2.2.2 Slanted triangular learning rates\n",
    "\n",
    "In order to adapt to problem-specific features, want to enforce the model converges rapidly to an appropriate region of the the parameter space at the start of training the model, then refine the model's parameters. What slanted triangular learning rates (STLR) does is firstly increase the learning rate at a linear scale and then inversely decays to a linear scale [1]. "
   ]
  },
  {
   "cell_type": "markdown",
   "metadata": {},
   "source": [
    "## 2.3: Target task classifier fine-tuning\n",
    "\n",
    "Finally, in order to fine tune the classifier model, the pre-trained language model is appended with two extra linear blocks. Analogous to Computer Vision (CV) classifiers, each block uses batch normalisation and dropout, with ReLU activation functions for the middle layers and at the last layer over target classes, a softmax activation function that outputs a corresponding probability distribution. This is the only phase where parameters for the problem specific classifier are learnt from scratch. The first linear layer's input state comes from the pooled last hidden layers."
   ]
  },
  {
   "cell_type": "markdown",
   "metadata": {},
   "source": [
    "# 3: Problem Statement"
   ]
  },
  {
   "cell_type": "markdown",
   "metadata": {},
   "source": [
    "Using the dataset from the Kaggle website [here](https://www.kaggle.com/crowdflower/twitter-airline-sentiment) [2], 14640 separate tweets were scraped in February 2015 and each Tweeter were asked to classify their review of an American airline as either \"positive\", \"negative\" or \"neutral\". In addition to that, if the Tweeter gave a negative review, they were asked to give an additional reason why their review was negative such as \"late flight\" or \"rude service\". By performing sentiment analysis of the content of the tweets, I would like to create a supervised classification model that correctly predicts the sentiment of the tweets as either \"positive\", \"negative\" or \"neutral\" using the ULMFiT model architecture."
   ]
  },
  {
   "cell_type": "markdown",
   "metadata": {},
   "source": [
    "# 4: Exploratory Data Analysis\n"
   ]
  },
  {
   "cell_type": "markdown",
   "metadata": {},
   "source": [
    "### Loading and first look at the dataset"
   ]
  },
  {
   "cell_type": "markdown",
   "metadata": {},
   "source": [
    "Let's load up the tweets csv file and explore the dataset."
   ]
  },
  {
   "cell_type": "code",
   "execution_count": 1,
   "metadata": {},
   "outputs": [],
   "source": [
    "#Import pandas library.\n",
    "import pandas as pd"
   ]
  },
  {
   "cell_type": "code",
   "execution_count": 2,
   "metadata": {},
   "outputs": [],
   "source": [
    "#Import plotting libraries seaborn and matplotlib libraries.\n",
    "import seaborn as sns\n",
    "import matplotlib.pyplot as plt\n",
    "%matplotlib inline"
   ]
  },
  {
   "cell_type": "code",
   "execution_count": 3,
   "metadata": {
    "scrolled": false
   },
   "outputs": [
    {
     "data": {
      "text/html": [
       "<div>\n",
       "<style scoped>\n",
       "    .dataframe tbody tr th:only-of-type {\n",
       "        vertical-align: middle;\n",
       "    }\n",
       "\n",
       "    .dataframe tbody tr th {\n",
       "        vertical-align: top;\n",
       "    }\n",
       "\n",
       "    .dataframe thead th {\n",
       "        text-align: right;\n",
       "    }\n",
       "</style>\n",
       "<table border=\"1\" class=\"dataframe\">\n",
       "  <thead>\n",
       "    <tr style=\"text-align: right;\">\n",
       "      <th></th>\n",
       "      <th>tweet_id</th>\n",
       "      <th>airline_sentiment</th>\n",
       "      <th>airline_sentiment_confidence</th>\n",
       "      <th>negativereason</th>\n",
       "      <th>negativereason_confidence</th>\n",
       "      <th>airline</th>\n",
       "      <th>airline_sentiment_gold</th>\n",
       "      <th>name</th>\n",
       "      <th>negativereason_gold</th>\n",
       "      <th>retweet_count</th>\n",
       "      <th>text</th>\n",
       "      <th>tweet_coord</th>\n",
       "      <th>tweet_created</th>\n",
       "      <th>tweet_location</th>\n",
       "      <th>user_timezone</th>\n",
       "    </tr>\n",
       "  </thead>\n",
       "  <tbody>\n",
       "    <tr>\n",
       "      <th>0</th>\n",
       "      <td>570306133677760513</td>\n",
       "      <td>neutral</td>\n",
       "      <td>1.0000</td>\n",
       "      <td>NaN</td>\n",
       "      <td>NaN</td>\n",
       "      <td>Virgin America</td>\n",
       "      <td>NaN</td>\n",
       "      <td>cairdin</td>\n",
       "      <td>NaN</td>\n",
       "      <td>0</td>\n",
       "      <td>@VirginAmerica What @dhepburn said.</td>\n",
       "      <td>NaN</td>\n",
       "      <td>2015-02-24 11:35:52-08:00</td>\n",
       "      <td>NaN</td>\n",
       "      <td>Eastern Time (US &amp; Canada)</td>\n",
       "    </tr>\n",
       "    <tr>\n",
       "      <th>1</th>\n",
       "      <td>570301130888122368</td>\n",
       "      <td>positive</td>\n",
       "      <td>0.3486</td>\n",
       "      <td>NaN</td>\n",
       "      <td>0.0000</td>\n",
       "      <td>Virgin America</td>\n",
       "      <td>NaN</td>\n",
       "      <td>jnardino</td>\n",
       "      <td>NaN</td>\n",
       "      <td>0</td>\n",
       "      <td>@VirginAmerica plus you've added commercials t...</td>\n",
       "      <td>NaN</td>\n",
       "      <td>2015-02-24 11:15:59-08:00</td>\n",
       "      <td>NaN</td>\n",
       "      <td>Pacific Time (US &amp; Canada)</td>\n",
       "    </tr>\n",
       "    <tr>\n",
       "      <th>2</th>\n",
       "      <td>570301083672813571</td>\n",
       "      <td>neutral</td>\n",
       "      <td>0.6837</td>\n",
       "      <td>NaN</td>\n",
       "      <td>NaN</td>\n",
       "      <td>Virgin America</td>\n",
       "      <td>NaN</td>\n",
       "      <td>yvonnalynn</td>\n",
       "      <td>NaN</td>\n",
       "      <td>0</td>\n",
       "      <td>@VirginAmerica I didn't today... Must mean I n...</td>\n",
       "      <td>NaN</td>\n",
       "      <td>2015-02-24 11:15:48-08:00</td>\n",
       "      <td>Lets Play</td>\n",
       "      <td>Central Time (US &amp; Canada)</td>\n",
       "    </tr>\n",
       "    <tr>\n",
       "      <th>3</th>\n",
       "      <td>570301031407624196</td>\n",
       "      <td>negative</td>\n",
       "      <td>1.0000</td>\n",
       "      <td>Bad Flight</td>\n",
       "      <td>0.7033</td>\n",
       "      <td>Virgin America</td>\n",
       "      <td>NaN</td>\n",
       "      <td>jnardino</td>\n",
       "      <td>NaN</td>\n",
       "      <td>0</td>\n",
       "      <td>@VirginAmerica it's really aggressive to blast...</td>\n",
       "      <td>NaN</td>\n",
       "      <td>2015-02-24 11:15:36-08:00</td>\n",
       "      <td>NaN</td>\n",
       "      <td>Pacific Time (US &amp; Canada)</td>\n",
       "    </tr>\n",
       "    <tr>\n",
       "      <th>4</th>\n",
       "      <td>570300817074462722</td>\n",
       "      <td>negative</td>\n",
       "      <td>1.0000</td>\n",
       "      <td>Can't Tell</td>\n",
       "      <td>1.0000</td>\n",
       "      <td>Virgin America</td>\n",
       "      <td>NaN</td>\n",
       "      <td>jnardino</td>\n",
       "      <td>NaN</td>\n",
       "      <td>0</td>\n",
       "      <td>@VirginAmerica and it's a really big bad thing...</td>\n",
       "      <td>NaN</td>\n",
       "      <td>2015-02-24 11:14:45-08:00</td>\n",
       "      <td>NaN</td>\n",
       "      <td>Pacific Time (US &amp; Canada)</td>\n",
       "    </tr>\n",
       "    <tr>\n",
       "      <th>5</th>\n",
       "      <td>570300767074181121</td>\n",
       "      <td>negative</td>\n",
       "      <td>1.0000</td>\n",
       "      <td>Can't Tell</td>\n",
       "      <td>0.6842</td>\n",
       "      <td>Virgin America</td>\n",
       "      <td>NaN</td>\n",
       "      <td>jnardino</td>\n",
       "      <td>NaN</td>\n",
       "      <td>0</td>\n",
       "      <td>@VirginAmerica seriously would pay $30 a fligh...</td>\n",
       "      <td>NaN</td>\n",
       "      <td>2015-02-24 11:14:33-08:00</td>\n",
       "      <td>NaN</td>\n",
       "      <td>Pacific Time (US &amp; Canada)</td>\n",
       "    </tr>\n",
       "    <tr>\n",
       "      <th>6</th>\n",
       "      <td>570300616901320704</td>\n",
       "      <td>positive</td>\n",
       "      <td>0.6745</td>\n",
       "      <td>NaN</td>\n",
       "      <td>0.0000</td>\n",
       "      <td>Virgin America</td>\n",
       "      <td>NaN</td>\n",
       "      <td>cjmcginnis</td>\n",
       "      <td>NaN</td>\n",
       "      <td>0</td>\n",
       "      <td>@VirginAmerica yes, nearly every time I fly VX...</td>\n",
       "      <td>NaN</td>\n",
       "      <td>2015-02-24 11:13:57-08:00</td>\n",
       "      <td>San Francisco CA</td>\n",
       "      <td>Pacific Time (US &amp; Canada)</td>\n",
       "    </tr>\n",
       "    <tr>\n",
       "      <th>7</th>\n",
       "      <td>570300248553349120</td>\n",
       "      <td>neutral</td>\n",
       "      <td>0.6340</td>\n",
       "      <td>NaN</td>\n",
       "      <td>NaN</td>\n",
       "      <td>Virgin America</td>\n",
       "      <td>NaN</td>\n",
       "      <td>pilot</td>\n",
       "      <td>NaN</td>\n",
       "      <td>0</td>\n",
       "      <td>@VirginAmerica Really missed a prime opportuni...</td>\n",
       "      <td>NaN</td>\n",
       "      <td>2015-02-24 11:12:29-08:00</td>\n",
       "      <td>Los Angeles</td>\n",
       "      <td>Pacific Time (US &amp; Canada)</td>\n",
       "    </tr>\n",
       "    <tr>\n",
       "      <th>8</th>\n",
       "      <td>570299953286942721</td>\n",
       "      <td>positive</td>\n",
       "      <td>0.6559</td>\n",
       "      <td>NaN</td>\n",
       "      <td>NaN</td>\n",
       "      <td>Virgin America</td>\n",
       "      <td>NaN</td>\n",
       "      <td>dhepburn</td>\n",
       "      <td>NaN</td>\n",
       "      <td>0</td>\n",
       "      <td>@virginamerica Well, I didn't…but NOW I DO! :-D</td>\n",
       "      <td>NaN</td>\n",
       "      <td>2015-02-24 11:11:19-08:00</td>\n",
       "      <td>San Diego</td>\n",
       "      <td>Pacific Time (US &amp; Canada)</td>\n",
       "    </tr>\n",
       "    <tr>\n",
       "      <th>9</th>\n",
       "      <td>570295459631263746</td>\n",
       "      <td>positive</td>\n",
       "      <td>1.0000</td>\n",
       "      <td>NaN</td>\n",
       "      <td>NaN</td>\n",
       "      <td>Virgin America</td>\n",
       "      <td>NaN</td>\n",
       "      <td>YupitsTate</td>\n",
       "      <td>NaN</td>\n",
       "      <td>0</td>\n",
       "      <td>@VirginAmerica it was amazing, and arrived an ...</td>\n",
       "      <td>NaN</td>\n",
       "      <td>2015-02-24 10:53:27-08:00</td>\n",
       "      <td>Los Angeles</td>\n",
       "      <td>Eastern Time (US &amp; Canada)</td>\n",
       "    </tr>\n",
       "  </tbody>\n",
       "</table>\n",
       "</div>"
      ],
      "text/plain": [
       "             tweet_id airline_sentiment  airline_sentiment_confidence  \\\n",
       "0  570306133677760513           neutral                        1.0000   \n",
       "1  570301130888122368          positive                        0.3486   \n",
       "2  570301083672813571           neutral                        0.6837   \n",
       "3  570301031407624196          negative                        1.0000   \n",
       "4  570300817074462722          negative                        1.0000   \n",
       "5  570300767074181121          negative                        1.0000   \n",
       "6  570300616901320704          positive                        0.6745   \n",
       "7  570300248553349120           neutral                        0.6340   \n",
       "8  570299953286942721          positive                        0.6559   \n",
       "9  570295459631263746          positive                        1.0000   \n",
       "\n",
       "  negativereason  negativereason_confidence         airline  \\\n",
       "0            NaN                        NaN  Virgin America   \n",
       "1            NaN                     0.0000  Virgin America   \n",
       "2            NaN                        NaN  Virgin America   \n",
       "3     Bad Flight                     0.7033  Virgin America   \n",
       "4     Can't Tell                     1.0000  Virgin America   \n",
       "5     Can't Tell                     0.6842  Virgin America   \n",
       "6            NaN                     0.0000  Virgin America   \n",
       "7            NaN                        NaN  Virgin America   \n",
       "8            NaN                        NaN  Virgin America   \n",
       "9            NaN                        NaN  Virgin America   \n",
       "\n",
       "  airline_sentiment_gold        name negativereason_gold  retweet_count  \\\n",
       "0                    NaN     cairdin                 NaN              0   \n",
       "1                    NaN    jnardino                 NaN              0   \n",
       "2                    NaN  yvonnalynn                 NaN              0   \n",
       "3                    NaN    jnardino                 NaN              0   \n",
       "4                    NaN    jnardino                 NaN              0   \n",
       "5                    NaN    jnardino                 NaN              0   \n",
       "6                    NaN  cjmcginnis                 NaN              0   \n",
       "7                    NaN       pilot                 NaN              0   \n",
       "8                    NaN    dhepburn                 NaN              0   \n",
       "9                    NaN  YupitsTate                 NaN              0   \n",
       "\n",
       "                                                text tweet_coord  \\\n",
       "0                @VirginAmerica What @dhepburn said.         NaN   \n",
       "1  @VirginAmerica plus you've added commercials t...         NaN   \n",
       "2  @VirginAmerica I didn't today... Must mean I n...         NaN   \n",
       "3  @VirginAmerica it's really aggressive to blast...         NaN   \n",
       "4  @VirginAmerica and it's a really big bad thing...         NaN   \n",
       "5  @VirginAmerica seriously would pay $30 a fligh...         NaN   \n",
       "6  @VirginAmerica yes, nearly every time I fly VX...         NaN   \n",
       "7  @VirginAmerica Really missed a prime opportuni...         NaN   \n",
       "8    @virginamerica Well, I didn't…but NOW I DO! :-D         NaN   \n",
       "9  @VirginAmerica it was amazing, and arrived an ...         NaN   \n",
       "\n",
       "              tweet_created    tweet_location               user_timezone  \n",
       "0 2015-02-24 11:35:52-08:00               NaN  Eastern Time (US & Canada)  \n",
       "1 2015-02-24 11:15:59-08:00               NaN  Pacific Time (US & Canada)  \n",
       "2 2015-02-24 11:15:48-08:00         Lets Play  Central Time (US & Canada)  \n",
       "3 2015-02-24 11:15:36-08:00               NaN  Pacific Time (US & Canada)  \n",
       "4 2015-02-24 11:14:45-08:00               NaN  Pacific Time (US & Canada)  \n",
       "5 2015-02-24 11:14:33-08:00               NaN  Pacific Time (US & Canada)  \n",
       "6 2015-02-24 11:13:57-08:00  San Francisco CA  Pacific Time (US & Canada)  \n",
       "7 2015-02-24 11:12:29-08:00       Los Angeles  Pacific Time (US & Canada)  \n",
       "8 2015-02-24 11:11:19-08:00         San Diego  Pacific Time (US & Canada)  \n",
       "9 2015-02-24 10:53:27-08:00       Los Angeles  Eastern Time (US & Canada)  "
      ]
     },
     "execution_count": 3,
     "metadata": {},
     "output_type": "execute_result"
    }
   ],
   "source": [
    "#Import the tweets csv file as a Pandas DataFrame downloaded from https://www.kaggle.com/crowdflower/twitter-airline-sentiment\n",
    "df = pd.read_csv('Tweets.csv',parse_dates=['tweet_created'])\n",
    "#View the first 10 rows.\n",
    "df.head(10)"
   ]
  },
  {
   "cell_type": "code",
   "execution_count": 4,
   "metadata": {},
   "outputs": [
    {
     "data": {
      "text/plain": [
       "array([nan, 'Bad Flight', \"Can't Tell\", 'Late Flight',\n",
       "       'Customer Service Issue', 'Flight Booking Problems',\n",
       "       'Lost Luggage', 'Flight Attendant Complaints', 'Cancelled Flight',\n",
       "       'Damaged Luggage', 'longlines'], dtype=object)"
      ]
     },
     "execution_count": 4,
     "metadata": {},
     "output_type": "execute_result"
    }
   ],
   "source": [
    "#View the unique entries of the negativereason column.\n",
    "df.negativereason.unique()"
   ]
  },
  {
   "cell_type": "markdown",
   "metadata": {},
   "source": [
    "There are 10 bad reasons given if there was a negative review. I will attempt to describe what each colum is as a data dictionary."
   ]
  },
  {
   "cell_type": "markdown",
   "metadata": {},
   "source": [
    "Data Dictionary (First Glance):\n",
    "- tweet_id: Primary key id for tweet.\n",
    "- airline_sentiment: Classified sentiment of tweet as either neutral, positive or negative.\n",
    "- airline_sentiment_confidence: Appears to be a scale between 0-1 where 1 is most negative and 0 is most positive.\n",
    "- negativereason: If traveller is classified as negative sentiment, classify a brief reason why they have a negative sentiment, otherwise the field is NULL.\n",
    "- negativereason_confidence: If traveller is classified as negative sentiment, a confidence rating that the negative reason is the reason why they have negative sentiment, otherwise the field is NULL.\n",
    "- airline: Name of the American airline carrier the customer flew with.\n",
    "- airline_sentiment_gold: I presume given the customer flew gold class, the attached sentiment of the tweet as either neutral, positive or negative, otherwise the field is NULL.\n",
    "- name: Twitter account name.\n",
    "- negativereason_gold: Same as negativereason but only for gold class travellers, otherwise the field is NULL.\n",
    "- retweet_count: Number of retweets.\n",
    "- text: Raw tweet string.\n",
    "- tweet_coord: Geographic location of the tweet in (latitutude, longitude) format.\n",
    "- tweet_created: Timestamp of when tweet was created.\n",
    "- tweet_location: Location name of where the tweet was tweeted.\n",
    "- user_timezone: Timezone of twitter user.\n"
   ]
  },
  {
   "cell_type": "code",
   "execution_count": 5,
   "metadata": {},
   "outputs": [
    {
     "data": {
      "text/plain": [
       "(14640, 15)"
      ]
     },
     "execution_count": 5,
     "metadata": {},
     "output_type": "execute_result"
    }
   ],
   "source": [
    "#Shape of the dataframe.\n",
    "df.shape"
   ]
  },
  {
   "cell_type": "code",
   "execution_count": 6,
   "metadata": {},
   "outputs": [
    {
     "data": {
      "text/plain": [
       "array(['neutral', 'positive', 'negative'], dtype=object)"
      ]
     },
     "execution_count": 6,
     "metadata": {},
     "output_type": "execute_result"
    }
   ],
   "source": [
    "#View the unique entries of the airline_sentiment column.\n",
    "df.airline_sentiment.unique()"
   ]
  },
  {
   "cell_type": "code",
   "execution_count": 7,
   "metadata": {},
   "outputs": [
    {
     "data": {
      "text/plain": [
       "1.0"
      ]
     },
     "execution_count": 7,
     "metadata": {},
     "output_type": "execute_result"
    }
   ],
   "source": [
    "#View the maximum of the airline_sentiment_confidence column.\n",
    "df.airline_sentiment_confidence.max()"
   ]
  },
  {
   "cell_type": "code",
   "execution_count": 8,
   "metadata": {},
   "outputs": [
    {
     "data": {
      "text/plain": [
       "0.335"
      ]
     },
     "execution_count": 8,
     "metadata": {},
     "output_type": "execute_result"
    }
   ],
   "source": [
    "#View the minimum of the airline_sentiment_confidence column.\n",
    "df.airline_sentiment_confidence.min()"
   ]
  },
  {
   "cell_type": "code",
   "execution_count": 9,
   "metadata": {},
   "outputs": [
    {
     "data": {
      "text/plain": [
       "array(['Virgin America', 'United', 'Southwest', 'Delta', 'US Airways',\n",
       "       'American'], dtype=object)"
      ]
     },
     "execution_count": 9,
     "metadata": {},
     "output_type": "execute_result"
    }
   ],
   "source": [
    "#Unique airlines.\n",
    "df.airline.unique()"
   ]
  },
  {
   "cell_type": "code",
   "execution_count": 10,
   "metadata": {},
   "outputs": [
    {
     "data": {
      "text/plain": [
       "array([nan, 'negative', 'neutral', 'positive'], dtype=object)"
      ]
     },
     "execution_count": 10,
     "metadata": {},
     "output_type": "execute_result"
    }
   ],
   "source": [
    "#Unique entries of the airline_sentiment_gold column.\n",
    "df.airline_sentiment_gold.unique()"
   ]
  },
  {
   "cell_type": "code",
   "execution_count": 11,
   "metadata": {},
   "outputs": [
    {
     "data": {
      "text/plain": [
       "array(['cairdin', 'jnardino', 'yvonnalynn', ..., 'KristenReenders',\n",
       "       'itsropes', 'sanyabun'], dtype=object)"
      ]
     },
     "execution_count": 11,
     "metadata": {},
     "output_type": "execute_result"
    }
   ],
   "source": [
    "#Unique names.\n",
    "df.name.unique()"
   ]
  },
  {
   "cell_type": "markdown",
   "metadata": {},
   "source": [
    "This may be useful later on that about half of the tweets are from unique users."
   ]
  },
  {
   "cell_type": "code",
   "execution_count": 12,
   "metadata": {},
   "outputs": [
    {
     "data": {
      "text/plain": [
       "7701"
      ]
     },
     "execution_count": 12,
     "metadata": {},
     "output_type": "execute_result"
    }
   ],
   "source": [
    "#Number of unique names.\n",
    "len(df.name.unique())"
   ]
  },
  {
   "cell_type": "markdown",
   "metadata": {},
   "source": [
    "I could create a plot but given that there are very few retweets (13873/14640), this feature does not appear very useful in predicting sentiment. "
   ]
  },
  {
   "cell_type": "code",
   "execution_count": 13,
   "metadata": {},
   "outputs": [
    {
     "data": {
      "text/plain": [
       "0     13873\n",
       "1       640\n",
       "2        66\n",
       "3        22\n",
       "4        17\n",
       "5         5\n",
       "6         3\n",
       "7         3\n",
       "22        2\n",
       "44        1\n",
       "8         1\n",
       "32        1\n",
       "9         1\n",
       "31        1\n",
       "18        1\n",
       "15        1\n",
       "28        1\n",
       "11        1\n",
       "Name: retweet_count, dtype: int64"
      ]
     },
     "execution_count": 13,
     "metadata": {},
     "output_type": "execute_result"
    }
   ],
   "source": [
    "#Number of values for each retweet count.\n",
    "df.retweet_count.value_counts().sort_values(ascending=False)"
   ]
  },
  {
   "cell_type": "markdown",
   "metadata": {},
   "source": [
    "Explore location data. Very varied and may be useful for later on if want to cluster regions or cities."
   ]
  },
  {
   "cell_type": "code",
   "execution_count": 14,
   "metadata": {
    "scrolled": false
   },
   "outputs": [
    {
     "data": {
      "text/plain": [
       "array([nan, '[19.43706642, -99.07927123]', '[41.98191311, -87.80888924]',\n",
       "       '[45.67920767, -111.04847652]', '[39.85861469, -104.67233425]',\n",
       "       '[43.60417384, -110.7362561]', '[33.99585652, -117.35791469]',\n",
       "       '[25.0779704, 55.13808289]', '[35.23908248, -120.64078264]',\n",
       "       '[40.79971517, -74.25960937]', '[41.19747574, -73.76926201]',\n",
       "       '[33.4338494, -111.9963312]', '[41.81477378, -80.93644744]',\n",
       "       '[34.0658388, -117.5711653]', '[33.42067535, -111.93155126]',\n",
       "       '[42.35829164, -71.06163025]', '[40.64646912, -73.79133606]',\n",
       "       '[40.64656067, -73.78334045]', '[18.44643543, -66.28345755]',\n",
       "       '[38.86411798, -77.0231684]', '[39.25956567, -76.70131545]',\n",
       "       '[40.77265898, -73.86525922]', '[43.0460003, -84.4794566]',\n",
       "       '[33.8143379, -116.53572408]', '[35.17263842, -89.769988]',\n",
       "       '[37.93712278, -107.81800496]', '[40.67072447, -73.97727422]',\n",
       "       '[40.46694635, -82.64579149]'], dtype=object)"
      ]
     },
     "execution_count": 14,
     "metadata": {},
     "output_type": "execute_result"
    }
   ],
   "source": [
    "#Unique values for tweet's coordinates.\n",
    "df.tweet_coord.unique()[0::30]"
   ]
  },
  {
   "cell_type": "markdown",
   "metadata": {},
   "source": [
    "### Exploring data types and NaNs"
   ]
  },
  {
   "cell_type": "markdown",
   "metadata": {},
   "source": [
    "Most datatypes are objects so may have to convert to different datatypes."
   ]
  },
  {
   "cell_type": "code",
   "execution_count": 15,
   "metadata": {},
   "outputs": [
    {
     "data": {
      "text/plain": [
       "tweet_id                                                         int64\n",
       "airline_sentiment                                               object\n",
       "airline_sentiment_confidence                                   float64\n",
       "negativereason                                                  object\n",
       "negativereason_confidence                                      float64\n",
       "airline                                                         object\n",
       "airline_sentiment_gold                                          object\n",
       "name                                                            object\n",
       "negativereason_gold                                             object\n",
       "retweet_count                                                    int64\n",
       "text                                                            object\n",
       "tweet_coord                                                     object\n",
       "tweet_created                   datetime64[ns, pytz.FixedOffset(-480)]\n",
       "tweet_location                                                  object\n",
       "user_timezone                                                   object\n",
       "dtype: object"
      ]
     },
     "execution_count": 15,
     "metadata": {},
     "output_type": "execute_result"
    }
   ],
   "source": [
    "#Dataframe's datatypes for each column.\n",
    "df.dtypes"
   ]
  },
  {
   "cell_type": "code",
   "execution_count": 16,
   "metadata": {},
   "outputs": [
    {
     "data": {
      "text/plain": [
       "(14640, 15)"
      ]
     },
     "execution_count": 16,
     "metadata": {},
     "output_type": "execute_result"
    }
   ],
   "source": [
    "#Shape of the dataframe.\n",
    "df.shape"
   ]
  },
  {
   "cell_type": "code",
   "execution_count": 17,
   "metadata": {},
   "outputs": [
    {
     "data": {
      "text/plain": [
       "tweet_id                            0\n",
       "airline_sentiment                   0\n",
       "airline_sentiment_confidence        0\n",
       "negativereason                   5462\n",
       "negativereason_confidence        4118\n",
       "airline                             0\n",
       "airline_sentiment_gold          14600\n",
       "name                                0\n",
       "negativereason_gold             14608\n",
       "retweet_count                       0\n",
       "text                                0\n",
       "tweet_coord                     13621\n",
       "tweet_created                       0\n",
       "tweet_location                   4733\n",
       "user_timezone                    4820\n",
       "dtype: int64"
      ]
     },
     "execution_count": 17,
     "metadata": {},
     "output_type": "execute_result"
    }
   ],
   "source": [
    "#Number of NaNs per column.\n",
    "df.isna().sum()"
   ]
  },
  {
   "cell_type": "markdown",
   "metadata": {},
   "source": [
    "The classes are inbalanced and using a technique like SMOTE may improve results."
   ]
  },
  {
   "cell_type": "code",
   "execution_count": 18,
   "metadata": {},
   "outputs": [
    {
     "data": {
      "text/plain": [
       "negative    9178\n",
       "neutral     3099\n",
       "positive    2363\n",
       "Name: airline_sentiment, dtype: int64"
      ]
     },
     "execution_count": 18,
     "metadata": {},
     "output_type": "execute_result"
    }
   ],
   "source": [
    "#Number of airline_sentiment entries in dataframe.\n",
    "df.airline_sentiment.value_counts()"
   ]
  },
  {
   "cell_type": "markdown",
   "metadata": {},
   "source": [
    "### Feature engineering and Data Visualisation"
   ]
  },
  {
   "cell_type": "markdown",
   "metadata": {},
   "source": [
    "#### Is Gold?"
   ]
  },
  {
   "cell_type": "markdown",
   "metadata": {},
   "source": [
    "I am doing some feature engineering by creating a new column where a customer flew gold class or not. May be useful later on."
   ]
  },
  {
   "cell_type": "code",
   "execution_count": 19,
   "metadata": {},
   "outputs": [],
   "source": [
    "#If the column airline_sentiment_gold is not null, then the corresponding is_gold column will be True and vice versa.\n",
    "df['is_gold']=~df['airline_sentiment_gold'].isnull()"
   ]
  },
  {
   "cell_type": "code",
   "execution_count": 20,
   "metadata": {},
   "outputs": [
    {
     "data": {
      "text/plain": [
       "False    14600\n",
       "True        40\n",
       "Name: is_gold, dtype: int64"
      ]
     },
     "execution_count": 20,
     "metadata": {},
     "output_type": "execute_result"
    }
   ],
   "source": [
    "#How many is_gold is there?\n",
    "df.is_gold.value_counts()"
   ]
  },
  {
   "cell_type": "code",
   "execution_count": 21,
   "metadata": {},
   "outputs": [],
   "source": [
    "#Convert boolean to binary output.\n",
    "df['is_gold']=df['is_gold'].astype(int)"
   ]
  },
  {
   "cell_type": "code",
   "execution_count": 22,
   "metadata": {},
   "outputs": [
    {
     "data": {
      "text/plain": [
       "0    14600\n",
       "1       40\n",
       "Name: is_gold, dtype: int64"
      ]
     },
     "execution_count": 22,
     "metadata": {},
     "output_type": "execute_result"
    }
   ],
   "source": [
    "#How many is_gold is there in binary output?\n",
    "df.is_gold.value_counts()"
   ]
  },
  {
   "cell_type": "code",
   "execution_count": 23,
   "metadata": {},
   "outputs": [],
   "source": [
    "#Convert sentiment from object to string.\n",
    "df['airline_sentiment']=df['airline_sentiment'].astype(str)"
   ]
  },
  {
   "cell_type": "markdown",
   "metadata": {},
   "source": [
    "It is clear that tweet_id is useless. Is_gold is terribly unbalanced class so may not be very useful. RT count is also quite unbalanced with a mean of 0.08650. Unsure if these columns will be terribly useful."
   ]
  },
  {
   "cell_type": "code",
   "execution_count": 24,
   "metadata": {},
   "outputs": [
    {
     "data": {
      "text/html": [
       "<div>\n",
       "<style scoped>\n",
       "    .dataframe tbody tr th:only-of-type {\n",
       "        vertical-align: middle;\n",
       "    }\n",
       "\n",
       "    .dataframe tbody tr th {\n",
       "        vertical-align: top;\n",
       "    }\n",
       "\n",
       "    .dataframe thead th {\n",
       "        text-align: right;\n",
       "    }\n",
       "</style>\n",
       "<table border=\"1\" class=\"dataframe\">\n",
       "  <thead>\n",
       "    <tr style=\"text-align: right;\">\n",
       "      <th></th>\n",
       "      <th>tweet_id</th>\n",
       "      <th>airline_sentiment_confidence</th>\n",
       "      <th>negativereason_confidence</th>\n",
       "      <th>retweet_count</th>\n",
       "      <th>is_gold</th>\n",
       "    </tr>\n",
       "  </thead>\n",
       "  <tbody>\n",
       "    <tr>\n",
       "      <th>count</th>\n",
       "      <td>1.464000e+04</td>\n",
       "      <td>14640.000000</td>\n",
       "      <td>10522.000000</td>\n",
       "      <td>14640.000000</td>\n",
       "      <td>14640.000000</td>\n",
       "    </tr>\n",
       "    <tr>\n",
       "      <th>mean</th>\n",
       "      <td>5.692184e+17</td>\n",
       "      <td>0.900169</td>\n",
       "      <td>0.638298</td>\n",
       "      <td>0.082650</td>\n",
       "      <td>0.002732</td>\n",
       "    </tr>\n",
       "    <tr>\n",
       "      <th>std</th>\n",
       "      <td>7.791112e+14</td>\n",
       "      <td>0.162830</td>\n",
       "      <td>0.330440</td>\n",
       "      <td>0.745778</td>\n",
       "      <td>0.052201</td>\n",
       "    </tr>\n",
       "    <tr>\n",
       "      <th>min</th>\n",
       "      <td>5.675883e+17</td>\n",
       "      <td>0.335000</td>\n",
       "      <td>0.000000</td>\n",
       "      <td>0.000000</td>\n",
       "      <td>0.000000</td>\n",
       "    </tr>\n",
       "    <tr>\n",
       "      <th>25%</th>\n",
       "      <td>5.685592e+17</td>\n",
       "      <td>0.692300</td>\n",
       "      <td>0.360600</td>\n",
       "      <td>0.000000</td>\n",
       "      <td>0.000000</td>\n",
       "    </tr>\n",
       "    <tr>\n",
       "      <th>50%</th>\n",
       "      <td>5.694779e+17</td>\n",
       "      <td>1.000000</td>\n",
       "      <td>0.670600</td>\n",
       "      <td>0.000000</td>\n",
       "      <td>0.000000</td>\n",
       "    </tr>\n",
       "    <tr>\n",
       "      <th>75%</th>\n",
       "      <td>5.698905e+17</td>\n",
       "      <td>1.000000</td>\n",
       "      <td>1.000000</td>\n",
       "      <td>0.000000</td>\n",
       "      <td>0.000000</td>\n",
       "    </tr>\n",
       "    <tr>\n",
       "      <th>max</th>\n",
       "      <td>5.703106e+17</td>\n",
       "      <td>1.000000</td>\n",
       "      <td>1.000000</td>\n",
       "      <td>44.000000</td>\n",
       "      <td>1.000000</td>\n",
       "    </tr>\n",
       "  </tbody>\n",
       "</table>\n",
       "</div>"
      ],
      "text/plain": [
       "           tweet_id  airline_sentiment_confidence  negativereason_confidence  \\\n",
       "count  1.464000e+04                  14640.000000               10522.000000   \n",
       "mean   5.692184e+17                      0.900169                   0.638298   \n",
       "std    7.791112e+14                      0.162830                   0.330440   \n",
       "min    5.675883e+17                      0.335000                   0.000000   \n",
       "25%    5.685592e+17                      0.692300                   0.360600   \n",
       "50%    5.694779e+17                      1.000000                   0.670600   \n",
       "75%    5.698905e+17                      1.000000                   1.000000   \n",
       "max    5.703106e+17                      1.000000                   1.000000   \n",
       "\n",
       "       retweet_count       is_gold  \n",
       "count   14640.000000  14640.000000  \n",
       "mean        0.082650      0.002732  \n",
       "std         0.745778      0.052201  \n",
       "min         0.000000      0.000000  \n",
       "25%         0.000000      0.000000  \n",
       "50%         0.000000      0.000000  \n",
       "75%         0.000000      0.000000  \n",
       "max        44.000000      1.000000  "
      ]
     },
     "execution_count": 24,
     "metadata": {},
     "output_type": "execute_result"
    }
   ],
   "source": [
    "#Quick rundown of key numerical statistics.\n",
    "df.describe()"
   ]
  },
  {
   "cell_type": "code",
   "execution_count": 25,
   "metadata": {},
   "outputs": [
    {
     "data": {
      "text/plain": [
       "Text(0, 0.5, 'frequency')"
      ]
     },
     "execution_count": 25,
     "metadata": {},
     "output_type": "execute_result"
    },
    {
     "data": {
      "image/png": "[encoded data removed]",
      "text/plain": [
       "<Figure size 432x288 with 1 Axes>"
      ]
     },
     "metadata": {
      "needs_background": "light"
     },
     "output_type": "display_data"
    }
   ],
   "source": [
    "#Frequency histogram plot of is_gold\n",
    "sns.distplot(df['is_gold'],kde = False)\n",
    "plt.ylabel('frequency')"
   ]
  },
  {
   "cell_type": "code",
   "execution_count": 26,
   "metadata": {
    "scrolled": false
   },
   "outputs": [
    {
     "data": {
      "text/html": [
       "<div>\n",
       "<style scoped>\n",
       "    .dataframe tbody tr th:only-of-type {\n",
       "        vertical-align: middle;\n",
       "    }\n",
       "\n",
       "    .dataframe tbody tr th {\n",
       "        vertical-align: top;\n",
       "    }\n",
       "\n",
       "    .dataframe thead th {\n",
       "        text-align: right;\n",
       "    }\n",
       "</style>\n",
       "<table border=\"1\" class=\"dataframe\">\n",
       "  <thead>\n",
       "    <tr style=\"text-align: right;\">\n",
       "      <th></th>\n",
       "      <th>tweet_id</th>\n",
       "      <th>airline_sentiment</th>\n",
       "      <th>airline_sentiment_confidence</th>\n",
       "      <th>negativereason</th>\n",
       "      <th>negativereason_confidence</th>\n",
       "      <th>airline</th>\n",
       "      <th>airline_sentiment_gold</th>\n",
       "      <th>name</th>\n",
       "      <th>negativereason_gold</th>\n",
       "      <th>retweet_count</th>\n",
       "      <th>text</th>\n",
       "      <th>tweet_coord</th>\n",
       "      <th>tweet_created</th>\n",
       "      <th>tweet_location</th>\n",
       "      <th>user_timezone</th>\n",
       "      <th>is_gold</th>\n",
       "    </tr>\n",
       "  </thead>\n",
       "  <tbody>\n",
       "    <tr>\n",
       "      <th>1</th>\n",
       "      <td>570301130888122368</td>\n",
       "      <td>positive</td>\n",
       "      <td>0.3486</td>\n",
       "      <td>NaN</td>\n",
       "      <td>0.0</td>\n",
       "      <td>Virgin America</td>\n",
       "      <td>NaN</td>\n",
       "      <td>jnardino</td>\n",
       "      <td>NaN</td>\n",
       "      <td>0</td>\n",
       "      <td>@VirginAmerica plus you've added commercials t...</td>\n",
       "      <td>NaN</td>\n",
       "      <td>2015-02-24 11:15:59-08:00</td>\n",
       "      <td>NaN</td>\n",
       "      <td>Pacific Time (US &amp; Canada)</td>\n",
       "      <td>0</td>\n",
       "    </tr>\n",
       "    <tr>\n",
       "      <th>6</th>\n",
       "      <td>570300616901320704</td>\n",
       "      <td>positive</td>\n",
       "      <td>0.6745</td>\n",
       "      <td>NaN</td>\n",
       "      <td>0.0</td>\n",
       "      <td>Virgin America</td>\n",
       "      <td>NaN</td>\n",
       "      <td>cjmcginnis</td>\n",
       "      <td>NaN</td>\n",
       "      <td>0</td>\n",
       "      <td>@VirginAmerica yes, nearly every time I fly VX...</td>\n",
       "      <td>NaN</td>\n",
       "      <td>2015-02-24 11:13:57-08:00</td>\n",
       "      <td>San Francisco CA</td>\n",
       "      <td>Pacific Time (US &amp; Canada)</td>\n",
       "      <td>0</td>\n",
       "    </tr>\n",
       "    <tr>\n",
       "      <th>8</th>\n",
       "      <td>570299953286942721</td>\n",
       "      <td>positive</td>\n",
       "      <td>0.6559</td>\n",
       "      <td>NaN</td>\n",
       "      <td>NaN</td>\n",
       "      <td>Virgin America</td>\n",
       "      <td>NaN</td>\n",
       "      <td>dhepburn</td>\n",
       "      <td>NaN</td>\n",
       "      <td>0</td>\n",
       "      <td>@virginamerica Well, I didn't…but NOW I DO! :-D</td>\n",
       "      <td>NaN</td>\n",
       "      <td>2015-02-24 11:11:19-08:00</td>\n",
       "      <td>San Diego</td>\n",
       "      <td>Pacific Time (US &amp; Canada)</td>\n",
       "      <td>0</td>\n",
       "    </tr>\n",
       "    <tr>\n",
       "      <th>9</th>\n",
       "      <td>570295459631263746</td>\n",
       "      <td>positive</td>\n",
       "      <td>1.0000</td>\n",
       "      <td>NaN</td>\n",
       "      <td>NaN</td>\n",
       "      <td>Virgin America</td>\n",
       "      <td>NaN</td>\n",
       "      <td>YupitsTate</td>\n",
       "      <td>NaN</td>\n",
       "      <td>0</td>\n",
       "      <td>@VirginAmerica it was amazing, and arrived an ...</td>\n",
       "      <td>NaN</td>\n",
       "      <td>2015-02-24 10:53:27-08:00</td>\n",
       "      <td>Los Angeles</td>\n",
       "      <td>Eastern Time (US &amp; Canada)</td>\n",
       "      <td>0</td>\n",
       "    </tr>\n",
       "    <tr>\n",
       "      <th>11</th>\n",
       "      <td>570289724453216256</td>\n",
       "      <td>positive</td>\n",
       "      <td>1.0000</td>\n",
       "      <td>NaN</td>\n",
       "      <td>NaN</td>\n",
       "      <td>Virgin America</td>\n",
       "      <td>NaN</td>\n",
       "      <td>HyperCamiLax</td>\n",
       "      <td>NaN</td>\n",
       "      <td>0</td>\n",
       "      <td>@VirginAmerica I &amp;lt;3 pretty graphics. so muc...</td>\n",
       "      <td>NaN</td>\n",
       "      <td>2015-02-24 10:30:40-08:00</td>\n",
       "      <td>NYC</td>\n",
       "      <td>America/New_York</td>\n",
       "      <td>0</td>\n",
       "    </tr>\n",
       "  </tbody>\n",
       "</table>\n",
       "</div>"
      ],
      "text/plain": [
       "              tweet_id airline_sentiment  airline_sentiment_confidence  \\\n",
       "1   570301130888122368          positive                        0.3486   \n",
       "6   570300616901320704          positive                        0.6745   \n",
       "8   570299953286942721          positive                        0.6559   \n",
       "9   570295459631263746          positive                        1.0000   \n",
       "11  570289724453216256          positive                        1.0000   \n",
       "\n",
       "   negativereason  negativereason_confidence         airline  \\\n",
       "1             NaN                        0.0  Virgin America   \n",
       "6             NaN                        0.0  Virgin America   \n",
       "8             NaN                        NaN  Virgin America   \n",
       "9             NaN                        NaN  Virgin America   \n",
       "11            NaN                        NaN  Virgin America   \n",
       "\n",
       "   airline_sentiment_gold          name negativereason_gold  retweet_count  \\\n",
       "1                     NaN      jnardino                 NaN              0   \n",
       "6                     NaN    cjmcginnis                 NaN              0   \n",
       "8                     NaN      dhepburn                 NaN              0   \n",
       "9                     NaN    YupitsTate                 NaN              0   \n",
       "11                    NaN  HyperCamiLax                 NaN              0   \n",
       "\n",
       "                                                 text tweet_coord  \\\n",
       "1   @VirginAmerica plus you've added commercials t...         NaN   \n",
       "6   @VirginAmerica yes, nearly every time I fly VX...         NaN   \n",
       "8     @virginamerica Well, I didn't…but NOW I DO! :-D         NaN   \n",
       "9   @VirginAmerica it was amazing, and arrived an ...         NaN   \n",
       "11  @VirginAmerica I &lt;3 pretty graphics. so muc...         NaN   \n",
       "\n",
       "               tweet_created    tweet_location               user_timezone  \\\n",
       "1  2015-02-24 11:15:59-08:00               NaN  Pacific Time (US & Canada)   \n",
       "6  2015-02-24 11:13:57-08:00  San Francisco CA  Pacific Time (US & Canada)   \n",
       "8  2015-02-24 11:11:19-08:00         San Diego  Pacific Time (US & Canada)   \n",
       "9  2015-02-24 10:53:27-08:00       Los Angeles  Eastern Time (US & Canada)   \n",
       "11 2015-02-24 10:30:40-08:00               NYC            America/New_York   \n",
       "\n",
       "    is_gold  \n",
       "1         0  \n",
       "6         0  \n",
       "8         0  \n",
       "9         0  \n",
       "11        0  "
      ]
     },
     "execution_count": 26,
     "metadata": {},
     "output_type": "execute_result"
    }
   ],
   "source": [
    "#Quick view of first 5 positive columns\n",
    "df[(df.airline_sentiment=='positive')].head()"
   ]
  },
  {
   "cell_type": "markdown",
   "metadata": {},
   "source": [
    "#### Exploring airline sentiment confidence"
   ]
  },
  {
   "cell_type": "code",
   "execution_count": 27,
   "metadata": {},
   "outputs": [
    {
     "data": {
      "text/plain": [
       "0        1.0000\n",
       "1        0.3486\n",
       "2        0.6837\n",
       "3        1.0000\n",
       "4        1.0000\n",
       "          ...  \n",
       "14635    0.3487\n",
       "14636    1.0000\n",
       "14637    1.0000\n",
       "14638    1.0000\n",
       "14639    0.6771\n",
       "Name: airline_sentiment_confidence, Length: 14640, dtype: float64"
      ]
     },
     "execution_count": 27,
     "metadata": {},
     "output_type": "execute_result"
    }
   ],
   "source": [
    "#Trying to make sense of airline_sentiment_confidence\n",
    "df['airline_sentiment_confidence']"
   ]
  },
  {
   "cell_type": "markdown",
   "metadata": {},
   "source": [
    "I assumed there would be greater deal of separation based on airline_sentiment_confidence and airline sentiment however they have a great deal of overlap. Airline_sentiment_confidence may not be very useful."
   ]
  },
  {
   "cell_type": "code",
   "execution_count": 28,
   "metadata": {},
   "outputs": [
    {
     "data": {
      "text/plain": [
       "Text(0, 0.5, 'airline_sentiment_confidence')"
      ]
     },
     "execution_count": 28,
     "metadata": {},
     "output_type": "execute_result"
    },
    {
     "data": {
      "image/png": "[encoded data removed]",
      "text/plain": [
       "<Figure size 432x288 with 1 Axes>"
      ]
     },
     "metadata": {
      "needs_background": "light"
     },
     "output_type": "display_data"
    }
   ],
   "source": [
    "#Boxplot of airline sentiment grouped by airline confidence.\n",
    "df.boxplot('airline_sentiment_confidence', by='airline_sentiment')\n",
    "plt.ylabel('airline_sentiment_confidence')"
   ]
  },
  {
   "cell_type": "code",
   "execution_count": 29,
   "metadata": {},
   "outputs": [
    {
     "data": {
      "text/plain": [
       "Text(0.5, 0, 'airline_sentiment_confidence')"
      ]
     },
     "execution_count": 29,
     "metadata": {},
     "output_type": "execute_result"
    },
    {
     "data": {
      "image/png": "[encoded data removed]",
      "text/plain": [
       "<Figure size 432x288 with 1 Axes>"
      ]
     },
     "metadata": {
      "needs_background": "light"
     },
     "output_type": "display_data"
    }
   ],
   "source": [
    "#Density plot of the negative sentiment distribution of airline sentiment confidence.\n",
    "sub_neg = df[df['airline_sentiment'] == 'negative']\n",
    "sub_neg['airline_sentiment_confidence'].plot.kde()\n",
    "plt.xlabel('airline_sentiment_confidence')"
   ]
  },
  {
   "cell_type": "code",
   "execution_count": 30,
   "metadata": {},
   "outputs": [
    {
     "data": {
      "text/plain": [
       "Text(0.5, 0, 'airline_sentiment_confidence')"
      ]
     },
     "execution_count": 30,
     "metadata": {},
     "output_type": "execute_result"
    },
    {
     "data": {
      "image/png": "[encoded data removed]",
      "text/plain": [
       "<Figure size 432x288 with 1 Axes>"
      ]
     },
     "metadata": {
      "needs_background": "light"
     },
     "output_type": "display_data"
    }
   ],
   "source": [
    "#Density plot of airline sentiment confidence grouped by sentiment. \n",
    "\n",
    "# Initiate sentiment category\n",
    "sentiment_category = df.airline_sentiment.unique()\n",
    "\n",
    "# Iterate through the three sentiment_categories\n",
    "for sentiment in sentiment_category:\n",
    "    # Subset to the sentiment\n",
    "    subset = df[df['airline_sentiment'] == sentiment]\n",
    "    \n",
    "    # Draw the density plot\n",
    "    subset['airline_sentiment_confidence'].plot.kde(label = sentiment)\n",
    "plt.legend(loc='best')\n",
    "plt.xlabel('airline_sentiment_confidence')"
   ]
  },
  {
   "cell_type": "markdown",
   "metadata": {},
   "source": [
    "It becomes very clear that airline_sentiment_confidence has almost no separation with sentiment category. I suspect it is because the sentiment confidence is a metric at how accurate the classified sentiment of the text is with the corresponding sentiment label: \"neutral\", \"positive\" or \"negative\", not the actual sentiment value which is what I first assumed."
   ]
  },
  {
   "cell_type": "markdown",
   "metadata": {},
   "source": [
    "#### Tweet length"
   ]
  },
  {
   "cell_type": "markdown",
   "metadata": {},
   "source": [
    "Tweet length may be something useful to consider as longer tweets of at least about 30 charachters tend to be more negative than neutral or positive."
   ]
  },
  {
   "cell_type": "code",
   "execution_count": 31,
   "metadata": {
    "scrolled": true
   },
   "outputs": [
    {
     "data": {
      "text/plain": [
       "Text(0, 0.5, 'Tweet length')"
      ]
     },
     "execution_count": 31,
     "metadata": {},
     "output_type": "execute_result"
    },
    {
     "data": {
      "image/png": "[encoded data removed]",
      "text/plain": [
       "<Figure size 432x288 with 1 Axes>"
      ]
     },
     "metadata": {
      "needs_background": "light"
     },
     "output_type": "display_data"
    }
   ],
   "source": [
    "#Boxplot of airline sentiment and tweet length.\n",
    "df['text_len'] = df.text.apply(len)\n",
    "df.boxplot('text_len', by='airline_sentiment')\n",
    "plt.ylabel('Tweet length')"
   ]
  },
  {
   "cell_type": "markdown",
   "metadata": {},
   "source": [
    "#### Day of the week"
   ]
  },
  {
   "cell_type": "markdown",
   "metadata": {},
   "source": [
    "Day of the week the tweet was made may impact sentiment."
   ]
  },
  {
   "cell_type": "code",
   "execution_count": 32,
   "metadata": {},
   "outputs": [
    {
     "data": {
      "text/plain": [
       "day\n",
       "0    0.899714\n",
       "1    0.892787\n",
       "2    0.881135\n",
       "3    0.887186\n",
       "4    0.900146\n",
       "5    0.908164\n",
       "6    0.917293\n",
       "Name: airline_sentiment_confidence, dtype: float64"
      ]
     },
     "execution_count": 32,
     "metadata": {},
     "output_type": "execute_result"
    }
   ],
   "source": [
    "# Extract day column and view sentiment confidence for each day of the week where 0 is Monday and 6 is Sunday.\n",
    "df['day'] = df.tweet_created.dt.weekday\n",
    "df.groupby('day').airline_sentiment_confidence.mean()"
   ]
  },
  {
   "cell_type": "code",
   "execution_count": 33,
   "metadata": {},
   "outputs": [
    {
     "data": {
      "text/plain": [
       "Text(0, 0.5, 'frequency of tweets')"
      ]
     },
     "execution_count": 33,
     "metadata": {},
     "output_type": "execute_result"
    },
    {
     "data": {
      "image/png": "[encoded data removed]",
      "text/plain": [
       "<Figure size 432x288 with 1 Axes>"
      ]
     },
     "metadata": {
      "needs_background": "light"
     },
     "output_type": "display_data"
    }
   ],
   "source": [
    "#Plot of number of tweets per day grouped by sentiment. \n",
    "\n",
    "# Initiate sentiment category\n",
    "sentiment_category = df.airline_sentiment.unique()\n",
    "\n",
    "# Iterate through the three sentiment_categories\n",
    "for sentiment in sentiment_category:\n",
    "    # Subset to the sentiment\n",
    "    subset = df[df['airline_sentiment'] == sentiment]\n",
    "    \n",
    "    # Draw the frequency plot grouped by each day\n",
    "    gb_sentiment = subset.groupby('day')['tweet_id'].count().plot(label=sentiment)\n",
    "    \n",
    "plt.legend(loc='best')\n",
    "plt.ylabel('frequency of tweets')"
   ]
  },
  {
   "cell_type": "markdown",
   "metadata": {},
   "source": [
    "Most people like tweeting on Sunday and Mondays. Would like to create a sentiment ratio for each day so can do a fair comparison."
   ]
  },
  {
   "cell_type": "code",
   "execution_count": 34,
   "metadata": {},
   "outputs": [
    {
     "name": "stdout",
     "output_type": "stream",
     "text": [
      "neutral\n",
      "day\n",
      "0    0.223285\n",
      "1    0.230378\n",
      "2    0.249256\n",
      "3    0.239099\n",
      "4    0.255333\n",
      "5    0.178548\n",
      "6    0.150373\n",
      "Name: tweet_id, dtype: float64\n",
      "positive\n",
      "day\n",
      "0    0.142810\n",
      "1    0.181323\n",
      "2    0.203125\n",
      "3    0.215116\n",
      "4    0.188000\n",
      "5    0.147720\n",
      "6    0.113673\n",
      "Name: tweet_id, dtype: float64\n",
      "negative\n",
      "day\n",
      "0    0.633905\n",
      "1    0.588299\n",
      "2    0.547619\n",
      "3    0.545785\n",
      "4    0.556667\n",
      "5    0.673732\n",
      "6    0.735953\n",
      "Name: tweet_id, dtype: float64\n"
     ]
    },
    {
     "data": {
      "text/plain": [
       "Text(0, 0.5, 'sentiment ratio of tweets per day')"
      ]
     },
     "execution_count": 34,
     "metadata": {},
     "output_type": "execute_result"
    },
    {
     "data": {
      "image/png": "[encoded data removed]",
      "text/plain": [
       "<Figure size 432x288 with 1 Axes>"
      ]
     },
     "metadata": {
      "needs_background": "light"
     },
     "output_type": "display_data"
    }
   ],
   "source": [
    "#Printing the sentiment ratio for each day and then plotting it accordingly.\n",
    "\n",
    "# Initiate sentiment category\n",
    "sentiment_category = df.airline_sentiment.unique()\n",
    "\n",
    "# Iterate through the three sentiment_categories\n",
    "for sentiment in sentiment_category:\n",
    "    # Subset to the sentiment\n",
    "    subset = df[df['airline_sentiment'] == sentiment]\n",
    "    \n",
    "    # Calculating the sentiment ratio for each day\n",
    "    gb_sentiment = ((subset.groupby('day')['tweet_id'].count())/(df.groupby('day')['tweet_id'].count()))\n",
    "    print(sentiment)\n",
    "    print(gb_sentiment)\n",
    "    gb_sentiment.plot(label=sentiment)\n",
    "    \n",
    "plt.legend(loc='best')\n",
    "plt.ylabel('sentiment ratio of tweets per day')\n",
    "#plt.xlabel('airline_sentiment_confidence')"
   ]
  },
  {
   "cell_type": "markdown",
   "metadata": {},
   "source": [
    "There is a discernible difference between weekday and weekend sentiment, especially for negative. This could be something to take into consideration. Create a separate feature for weekend. (Note that 5 and 6 are Saturday and Sunday respectively)."
   ]
  },
  {
   "cell_type": "code",
   "execution_count": 35,
   "metadata": {},
   "outputs": [
    {
     "name": "stdout",
     "output_type": "stream",
     "text": [
      "neutral\n",
      "weekend\n",
      "0    0.235706\n",
      "1    0.159836\n",
      "Name: tweet_id, dtype: float64\n",
      "positive\n",
      "weekend\n",
      "0    0.178229\n",
      "1    0.125108\n",
      "Name: tweet_id, dtype: float64\n",
      "negative\n",
      "weekend\n",
      "0    0.586066\n",
      "1    0.715056\n",
      "Name: tweet_id, dtype: float64\n"
     ]
    }
   ],
   "source": [
    "# Creating new column weekend and printing the sentiment ratio for each day on the weekend.\n",
    "df['weekend'] = (df.day >= 5).astype(int)\n",
    "sentiment_category = df.airline_sentiment.unique()\n",
    "\n",
    "# Iterate through the three sentiment_categories\n",
    "for sentiment in sentiment_category:\n",
    "    # Subset to the sentiment\n",
    "    subset = df[df['airline_sentiment'] == sentiment]\n",
    "    \n",
    "    # Draw the density plot\n",
    "    print(sentiment)\n",
    "    print((subset.groupby('weekend')['tweet_id'].count())/(df.groupby('weekend')['tweet_id'].count()))\n"
   ]
  },
  {
   "cell_type": "markdown",
   "metadata": {},
   "source": [
    "#### Hour of the day"
   ]
  },
  {
   "cell_type": "markdown",
   "metadata": {},
   "source": [
    "Given there was a big difference between sentiment on the weekend and weekday, would like to explore the hourly sentiment trend."
   ]
  },
  {
   "cell_type": "code",
   "execution_count": 36,
   "metadata": {},
   "outputs": [
    {
     "data": {
      "text/plain": [
       "Text(0, 0.5, 'sentiment ratio of tweets per hour')"
      ]
     },
     "execution_count": 36,
     "metadata": {},
     "output_type": "execute_result"
    },
    {
     "data": {
      "image/png": "[encoded data removed]",
      "text/plain": [
       "<Figure size 432x288 with 1 Axes>"
      ]
     },
     "metadata": {
      "needs_background": "light"
     },
     "output_type": "display_data"
    }
   ],
   "source": [
    "# Plotting the sentiment ratio for each hour for each sentiment.\n",
    "\n",
    "# Creating new column hour and plotting the sentiment ratio for each hour.\n",
    "df['hour'] = df.tweet_created.dt.hour\n",
    "sentiment_category = df.airline_sentiment.unique()\n",
    "\n",
    "# Iterate through the three sentiment_category\n",
    "for sentiment in sentiment_category:\n",
    "    # Subset to the sentiment\n",
    "    subset = df[df['airline_sentiment'] == sentiment]\n",
    "    \n",
    "    # Draw the density plot\n",
    "    \n",
    "    gb_sentiment = ((subset.groupby('hour')['tweet_id'].count())/(df.groupby('hour')['tweet_id'].count()))\n",
    "    #print(sentiment)\n",
    "    #print(gb_sentiment)\n",
    "    gb_sentiment.plot(label=sentiment)\n",
    "    \n",
    "plt.legend(loc='best')\n",
    "plt.ylabel('sentiment ratio of tweets per hour')\n"
   ]
  },
  {
   "cell_type": "markdown",
   "metadata": {},
   "source": [
    "We can see reviews submitted at night time, or later at night tend to be negative, especially from 10pm to 1am. This may be something to take into consideration in our model."
   ]
  },
  {
   "cell_type": "markdown",
   "metadata": {},
   "source": [
    "#### Airline"
   ]
  },
  {
   "cell_type": "markdown",
   "metadata": {},
   "source": [
    "Would like to explore the airline sentiment for each airline."
   ]
  },
  {
   "cell_type": "code",
   "execution_count": 37,
   "metadata": {},
   "outputs": [
    {
     "name": "stdout",
     "output_type": "stream",
     "text": [
      "neutral\n",
      "airline\n",
      "American          0.167814\n",
      "Delta             0.325383\n",
      "Southwest         0.274380\n",
      "US Airways        0.130793\n",
      "United            0.182365\n",
      "Virgin America    0.339286\n",
      "Name: tweet_id, dtype: float64\n",
      "positive\n",
      "airline\n",
      "American          0.121783\n",
      "Delta             0.244824\n",
      "Southwest         0.235537\n",
      "US Airways        0.092345\n",
      "United            0.128728\n",
      "Virgin America    0.301587\n",
      "Name: tweet_id, dtype: float64\n",
      "negative\n",
      "airline\n",
      "American          0.710402\n",
      "Delta             0.429793\n",
      "Southwest         0.490083\n",
      "US Airways        0.776862\n",
      "United            0.688906\n",
      "Virgin America    0.359127\n",
      "Name: tweet_id, dtype: float64\n"
     ]
    },
    {
     "data": {
      "text/plain": [
       "Text(0, 0.5, 'sentiment ratio of tweets')"
      ]
     },
     "execution_count": 37,
     "metadata": {},
     "output_type": "execute_result"
    },
    {
     "data": {
      "image/png": "[encoded data removed]",
      "text/plain": [
       "<Figure size 432x288 with 1 Axes>"
      ]
     },
     "metadata": {
      "needs_background": "light"
     },
     "output_type": "display_data"
    }
   ],
   "source": [
    "# Plotting the sentiment ratio for each airline grouped by sentiment.\n",
    "\n",
    "sentiment_category = df.airline_sentiment.unique()\n",
    "\n",
    "# Iterate through the three sentiment_categories\n",
    "for sentiment in sentiment_category:\n",
    "    # Subset to the sentiment\n",
    "    subset = df[df['airline_sentiment'] == sentiment]\n",
    "    \n",
    "    # Draw the density plot\n",
    "\n",
    "    gb_sentiment = subset.groupby('airline')['tweet_id'].count()/(df.groupby('airline')['tweet_id'].count())\n",
    "    print(sentiment)\n",
    "    print(gb_sentiment)\n",
    "    gb_sentiment.plot(label=sentiment)\n",
    "    \n",
    "plt.legend(loc='best')\n",
    "plt.ylabel('sentiment ratio of tweets')"
   ]
  },
  {
   "cell_type": "markdown",
   "metadata": {},
   "source": [
    "It is clear there is a great deal of separation depending on the airline. In particular, US Airways, United and American have considerably greater negative sentiment than the other airlines. However, given that we do not know a priori the airline in the tweet, this may not be a useful feature."
   ]
  },
  {
   "cell_type": "markdown",
   "metadata": {},
   "source": [
    "#### Month"
   ]
  },
  {
   "cell_type": "markdown",
   "metadata": {},
   "source": [
    "There is only one month to consider so not a useful feature."
   ]
  },
  {
   "cell_type": "code",
   "execution_count": 38,
   "metadata": {},
   "outputs": [
    {
     "data": {
      "text/plain": [
       "month\n",
       "2    0.900169\n",
       "Name: airline_sentiment_confidence, dtype: float64"
      ]
     },
     "execution_count": 38,
     "metadata": {},
     "output_type": "execute_result"
    }
   ],
   "source": [
    "# Creating a month column and finding the mean grouping by airline sentiment confidence column.\n",
    "df['month'] = df.tweet_created.dt.month\n",
    "df.groupby('month').airline_sentiment_confidence.mean()"
   ]
  },
  {
   "cell_type": "markdown",
   "metadata": {},
   "source": [
    "#### Timezone"
   ]
  },
  {
   "cell_type": "markdown",
   "metadata": {},
   "source": [
    "Exploring the different timezones people tweeted from. "
   ]
  },
  {
   "cell_type": "code",
   "execution_count": 39,
   "metadata": {},
   "outputs": [
    {
     "data": {
      "text/plain": [
       "Text(0.5, 0, 'airline_sentiment_confidence')"
      ]
     },
     "execution_count": 39,
     "metadata": {},
     "output_type": "execute_result"
    },
    {
     "data": {
      "image/png": "[encoded data removed]",
      "text/plain": [
       "<Figure size 720x1440 with 1 Axes>"
      ]
     },
     "metadata": {
      "needs_background": "light"
     },
     "output_type": "display_data"
    }
   ],
   "source": [
    "# Plotting the airline sentiment confidence by time zone.\n",
    "fig = plt.gcf()\n",
    "fig.set_size_inches(10, 20)\n",
    "df.groupby('user_timezone').airline_sentiment_confidence.mean().sort_values(ascending=True).plot.barh()\n",
    "plt.xlabel('airline_sentiment_confidence')"
   ]
  },
  {
   "cell_type": "markdown",
   "metadata": {},
   "source": [
    "## Feature selection"
   ]
  },
  {
   "cell_type": "markdown",
   "metadata": {},
   "source": [
    "In this model, the other features created may be useful for fine tuning the model but for now, want to build a baseline model with just text as the feature variable and airline sentiment as the target variable."
   ]
  },
  {
   "cell_type": "markdown",
   "metadata": {},
   "source": [
    "# 4: Text preparation"
   ]
  },
  {
   "cell_type": "markdown",
   "metadata": {},
   "source": [
    "Before training any model, I need to process the text first. In particular, splitting the raw text into single words or tokens. One method is to split based on white spaces. Also, need to potentially remove punctuation marks, contractions, make all text lower case, remove HTML tags, add stopword filtering etc. "
   ]
  },
  {
   "cell_type": "code",
   "execution_count": 40,
   "metadata": {},
   "outputs": [],
   "source": [
    "# Importing the fast.ai text library.\n",
    "from fastai.text import *"
   ]
  },
  {
   "cell_type": "code",
   "execution_count": 41,
   "metadata": {},
   "outputs": [
    {
     "data": {
      "text/plain": [
       "'@VirginAmerica What @dhepburn said.'"
      ]
     },
     "execution_count": 41,
     "metadata": {},
     "output_type": "execute_result"
    }
   ],
   "source": [
    "#Viewing the first tweet\n",
    "df['text'][0]"
   ]
  },
  {
   "cell_type": "code",
   "execution_count": 42,
   "metadata": {},
   "outputs": [
    {
     "name": "stdout",
     "output_type": "stream",
     "text": [
      "@VirginAmerica plus you've added commercials to the experience... tacky.\n"
     ]
    }
   ],
   "source": [
    "#Viewing the second tweet\n",
    "print(df['text'][1])"
   ]
  },
  {
   "cell_type": "code",
   "execution_count": 43,
   "metadata": {},
   "outputs": [],
   "source": [
    "#Adjust display option to view full tweet width.\n",
    "pd.set_option('display.width', 1000)"
   ]
  },
  {
   "cell_type": "code",
   "execution_count": 44,
   "metadata": {
    "scrolled": false
   },
   "outputs": [
    {
     "name": "stdout",
     "output_type": "stream",
     "text": [
      "@JetBlue thank you! I'm excited to fly with you for the first time.\n",
      "@USAirways No flights out of Philly because of system wide tech issue.   @CBSPhilly\n",
      "@USAirways the least comforting thing from your pilot after sitting on a stationary plane for 3 hours is \"I don't really know what happened\"\n",
      "@united Nope, no more chances. Your airline messed up both ways of our trip.\n",
      "@USAirways yeah, the mark was like a mile back. Also we're an hour Late Flight. So thanks a ton for the great service today.\n",
      "@united...lies lies lies....still sitting at the gate, have not moved an inch http://t.co/LulGnwEfFH\n",
      "@SouthwestAir can u follow so I can DM a confirmation number I need confirmed to Cancelled Flight?\n",
      "I will call to confirm Monday for refund\n",
      "@USAirways I found a flight I want on @CheapOair. Is my @AmericanAir AA Advantage # applicable to earn miles on it since you're merging?\n",
      "@USAirways not patient - originally 11:51 and now 4:41.\n",
      "@SouthwestAir I love you guys! Had to take a few other airlines this week...makes me love and appreciate y'all so much more! #onlywaytofly\n"
     ]
    }
   ],
   "source": [
    "#Sample 10 tweets\n",
    "for text in df['text'].sample(10):\n",
    "    print(text)"
   ]
  },
  {
   "cell_type": "code",
   "execution_count": 45,
   "metadata": {},
   "outputs": [
    {
     "data": {
      "text/plain": [
       "(14640, 21)"
      ]
     },
     "execution_count": 45,
     "metadata": {},
     "output_type": "execute_result"
    }
   ],
   "source": [
    "# View shape of dataframe after feature engineering.\n",
    "df.shape"
   ]
  },
  {
   "cell_type": "code",
   "execution_count": 46,
   "metadata": {},
   "outputs": [],
   "source": [
    "# Initiate path directory as same directory\n",
    "path=Path('./')"
   ]
  },
  {
   "cell_type": "code",
   "execution_count": 47,
   "metadata": {},
   "outputs": [],
   "source": [
    "# Initiate batch size of 60.\n",
    "bs=60"
   ]
  },
  {
   "cell_type": "code",
   "execution_count": 48,
   "metadata": {},
   "outputs": [],
   "source": [
    "# Splitting the data as 85% in the training set and 15% in the validation set.\n",
    "np.random.seed(1000)\n",
    "df = df.iloc[np.random.permutation(len(df))]\n",
    "cut1 = int(0.85 * len(df)) + 1\n",
    "df_train, df_valid = df[:cut1], df[cut1:]"
   ]
  },
  {
   "cell_type": "markdown",
   "metadata": {},
   "source": [
    "## 4.1: Creating a Text Data Bunch object."
   ]
  },
  {
   "cell_type": "markdown",
   "metadata": {},
   "source": [
    "Text is made up of words, however any model works with only numbers. Hence, require to tokenise and numercalise the text data. A TextDataBunch object does that automatically."
   ]
  },
  {
   "cell_type": "code",
   "execution_count": 49,
   "metadata": {},
   "outputs": [
    {
     "data": {
      "text/html": [],
      "text/plain": [
       "<IPython.core.display.HTML object>"
      ]
     },
     "metadata": {},
     "output_type": "display_data"
    },
    {
     "data": {
      "text/html": [],
      "text/plain": [
       "<IPython.core.display.HTML object>"
      ]
     },
     "metadata": {},
     "output_type": "display_data"
    }
   ],
   "source": [
    "# Creates a LM Data Bunch object.\n",
    "data_lm_v3 = TextLMDataBunch.from_df(path = path,train_df=df_train, valid_df=df_valid,label_cols='airline_sentiment', text_cols='text',bs=bs)"
   ]
  },
  {
   "cell_type": "code",
   "execution_count": 61,
   "metadata": {},
   "outputs": [],
   "source": [
    "# Save Data Bunch object.\n",
    "data_lm_v3.save('text_v3_bs60_85.pkl')"
   ]
  },
  {
   "cell_type": "markdown",
   "metadata": {},
   "source": [
    "### Tokenisation"
   ]
  },
  {
   "cell_type": "markdown",
   "metadata": {},
   "source": [
    "We can quickly glance the first couple of text bunches how it tokenises and numericalises the text. Essentially, we have to use a special kind of TextDataBunch for the language model, that ignores the labels (that's why we put 0 everywhere), will shuffle the texts at each epoch before concatenating them all together (only for training, we don't shuffle for the validation set) and will send batches that read that text in order with targets that are the next word in the sentence."
   ]
  },
  {
   "cell_type": "code",
   "execution_count": 50,
   "metadata": {},
   "outputs": [
    {
     "data": {
      "text/html": [
       "<table border=\"1\" class=\"dataframe\">\n",
       "  <thead>\n",
       "    <tr style=\"text-align: right;\">\n",
       "      <th>idx</th>\n",
       "      <th>text</th>\n",
       "    </tr>\n",
       "  </thead>\n",
       "  <tbody>\n",
       "    <tr>\n",
       "      <td>0</td>\n",
       "      <td>back to the old # xxup swa ! ! xxbos @united stuck here in xxup iah waiting on flight xxunk to xxmaj honolulu for 7 hours due to maintenance issues . xxmaj could we have gotten a new plane ! ? ! ? xxmaj fail xxbos @united so who does handle bag issues ? xxmaj and why would n't you put me onto them in the first place ? xxbos</td>\n",
       "    </tr>\n",
       "    <tr>\n",
       "      <td>1</td>\n",
       "      <td>xxmaj i've spent hours trying to book online only to receive an error when clicking final purchase button . ( 1 / 2 ) xxbos @usairways xxunk slowest baggage claim ever xxbos @southwestair the new logo is going to look amazing on the airplanes xxbos @usairways xxmaj thanks for showing interest ... xxunk to xxmaj greenville , xxup sc . xxbos @southwestair xxup xxunk flight almost full of people screwed</td>\n",
       "    </tr>\n",
       "    <tr>\n",
       "      <td>2</td>\n",
       "      <td>you . xxbos @jetblue what 's the link for # flyfi xxbos @americanair did you know that suicide is the second leading cause of death among teens 10 - 24 ? xxbos @southwestair when is the next flight with free xxunk ? xxbos @americanair xxmaj yes to the ios . i 'm running ios 8.1.3 xxbos @usairways 2.5 hours xxmaj late xxmaj flightr and the flight has been xxmaj cancelled</td>\n",
       "    </tr>\n",
       "    <tr>\n",
       "      <td>3</td>\n",
       "      <td>'s not about the weather . xxmaj it 's about the fact that i ca n't get ahold of anyone to help . xxup but you can tweet me back . xxbos @usairways xxmaj and now your half xxunk plane is falling apart . xxmaj some one tell my family i love them ! # dobetter http : / / t.co / xxunk xxbos @united xxmaj you were doing so</td>\n",
       "    </tr>\n",
       "    <tr>\n",
       "      <td>4</td>\n",
       "      <td>her phone on flight xxup xxunk on xxmaj friday xxmaj february xxunk upon landing in xxmaj minneapolis . xxmaj how can we get it back ? xxmaj thanks ! xxbos @united a generic form with xxunk of fields asking for info you already ? xxmaj expected more as a premier platinum . xxmaj another # servicefail xxbos @jetblue xxup oh xxup yeah ! ! ! great flight down to xxmaj</td>\n",
       "    </tr>\n",
       "  </tbody>\n",
       "</table>"
      ],
      "text/plain": [
       "<IPython.core.display.HTML object>"
      ]
     },
     "metadata": {},
     "output_type": "display_data"
    }
   ],
   "source": [
    "data_lm_v3.show_batch()"
   ]
  },
  {
   "cell_type": "markdown",
   "metadata": {},
   "source": [
    "The texts are truncated at 100 tokens for more readability. We can see that it did more than just split on space and punctuation symbols:\n",
    "\n",
    "  -  the \"'s\" are grouped together in one token\n",
    "  -  the contractions are separated like this: \"did\", \"n't\"\n",
    "  -  content has been cleaned for any HTML symbol and lower cased\n",
    "  -  there are several special tokens (all those that begin by xx), to replace unknown tokens (see below) or to introduce different text fields (here we only have one).\n",
    "\n"
   ]
  },
  {
   "cell_type": "markdown",
   "metadata": {},
   "source": [
    "Looking at just the first entry of the validation set, it is clear it is just numbers."
   ]
  },
  {
   "cell_type": "code",
   "execution_count": 55,
   "metadata": {},
   "outputs": [
    {
     "data": {
      "text/plain": [
       "Text [   2   21    0  407   18   84   48  422   85   55    5  588   10    5    0 1830   14    5   48   34  181  120  217\n",
       "   29    5  996   14]"
      ]
     },
     "execution_count": 55,
     "metadata": {},
     "output_type": "execute_result"
    }
   ],
   "source": [
    "# Looking at first entry of validation set. It is just numbers.\n",
    "data_lm_v3.valid_ds[0][0]"
   ]
  },
  {
   "cell_type": "code",
   "execution_count": 62,
   "metadata": {},
   "outputs": [
    {
     "data": {
      "text/plain": [
       "array([   2,   21,    0,  407,   18,   84,   48,  422,   85,   55,    5,  588,   10,    5,    0, 1830,   14,    5,\n",
       "         48,   34,  181,  120,  217,   29,    5,  996,   14])"
      ]
     },
     "execution_count": 62,
     "metadata": {},
     "output_type": "execute_result"
    }
   ],
   "source": [
    "# Looking at first entry of validation set. It can be casted as a numpy array.\n",
    "data_lm_v3.valid_ds[0][0].data"
   ]
  },
  {
   "cell_type": "markdown",
   "metadata": {},
   "source": [
    "### Numericalisation"
   ]
  },
  {
   "cell_type": "markdown",
   "metadata": {},
   "source": [
    "\n",
    "\n",
    "Once we have extracted tokens from our texts, we convert to integers by creating a list of all the words used. We only keep the ones that appear at least twice with a maximum vocabulary size of 60,000 (by default) and replace the ones that don't make the cut by the unknown token UNK.\n",
    "\n",
    "The correspondance from ids to tokens is stored in the vocab attribute of our datasets, in a dictionary called itos (for int to string).\n"
   ]
  },
  {
   "cell_type": "code",
   "execution_count": 69,
   "metadata": {},
   "outputs": [
    {
     "data": {
      "text/plain": [
       "['xxunk',\n",
       " 'xxpad',\n",
       " 'xxbos',\n",
       " 'xxeos',\n",
       " 'xxfld',\n",
       " 'xxmaj',\n",
       " 'xxup',\n",
       " 'xxrep',\n",
       " 'xxwrep',\n",
       " '.',\n",
       " 'to',\n",
       " 'i',\n",
       " 'the',\n",
       " '!',\n",
       " '?',\n",
       " 'a',\n",
       " '/',\n",
       " 'you',\n",
       " ',',\n",
       " 'for',\n",
       " 'flight',\n",
       " '@united',\n",
       " 'on',\n",
       " 'and',\n",
       " '#',\n",
       " 'my',\n",
       " '@usairways',\n",
       " '@americanair',\n",
       " 'is',\n",
       " 'in',\n",
       " '@southwestair',\n",
       " 'it',\n",
       " '@jetblue',\n",
       " 'of',\n",
       " \"n't\"]"
      ]
     },
     "execution_count": 69,
     "metadata": {},
     "output_type": "execute_result"
    }
   ],
   "source": [
    "data_lm_v3.vocab.itos[0:35]"
   ]
  },
  {
   "cell_type": "markdown",
   "metadata": {},
   "source": [
    "We can then put this in a learner object very easily with a model loaded with the pretrained weights. They'll be downloaded the first time you'll execute the following line and stored in ~/.fastai/models/ (or elsewhere if you specified different paths in your config file)."
   ]
  },
  {
   "cell_type": "markdown",
   "metadata": {},
   "source": [
    "# 5: Model Training"
   ]
  },
  {
   "cell_type": "markdown",
   "metadata": {},
   "source": [
    "## 5.1: Pretrained language model"
   ]
  },
  {
   "cell_type": "markdown",
   "metadata": {},
   "source": [
    "We're not going to train a model that classifies the reviews from scratch. Like in computer vision, we'll use a model pretrained on a bigger dataset (a cleaned subset of wikipedia called wikitext-103). That model has been trained to guess what the next word is, its input being all the previous words. It has a recurrent structure and a hidden state that is updated each time it sees a new word. This hidden state thus contains information about the sentence up to that point.\n",
    "\n",
    "We are going to use that 'knowledge' of the English language to build our classifier, but first, like for computer vision, we need to fine-tune the pretrained model to our particular dataset. Because the English of the reviews left by people on IMDB isn't the same as the English of wikipedia, we'll need to adjust the parameters of our model by a little bit. Plus there might be some words that would be extremely common in the reviews dataset but would be barely present in wikipedia, and therefore might not be part of the vocabulary the model was trained on."
   ]
  },
  {
   "cell_type": "code",
   "execution_count": 58,
   "metadata": {},
   "outputs": [],
   "source": [
    "# Initialise language model learner on the pretrained model wikitext-103 with dropout of 30% on data bunch object.\n",
    "lm_v3 = language_model_learner(data_lm_v3,AWD_LSTM,drop_mult=0.3)"
   ]
  },
  {
   "cell_type": "markdown",
   "metadata": {},
   "source": [
    "### Finding optimal learning rate"
   ]
  },
  {
   "cell_type": "code",
   "execution_count": 63,
   "metadata": {},
   "outputs": [
    {
     "data": {
      "text/html": [
       "\n",
       "    <div>\n",
       "        <style>\n",
       "            /* Turns off some styling */\n",
       "            progress {\n",
       "                /* gets rid of default border in Firefox and Opera. */\n",
       "                border: none;\n",
       "                /* Needs to be in here for Safari polyfill so background images work as expected. */\n",
       "                background-size: auto;\n",
       "            }\n",
       "            .progress-bar-interrupted, .progress-bar-interrupted::-webkit-progress-bar {\n",
       "                background: #F44336;\n",
       "            }\n",
       "        </style>\n",
       "      <progress value='1' class='' max='2' style='width:300px; height:20px; vertical-align: middle;'></progress>\n",
       "      50.00% [1/2 06:56<06:56]\n",
       "    </div>\n",
       "    \n",
       "<table border=\"1\" class=\"dataframe\">\n",
       "  <thead>\n",
       "    <tr style=\"text-align: left;\">\n",
       "      <th>epoch</th>\n",
       "      <th>train_loss</th>\n",
       "      <th>valid_loss</th>\n",
       "      <th>accuracy</th>\n",
       "      <th>time</th>\n",
       "    </tr>\n",
       "  </thead>\n",
       "  <tbody>\n",
       "    <tr>\n",
       "      <td>0</td>\n",
       "      <td>6.096137</td>\n",
       "      <td>#na#</td>\n",
       "      <td>06:56</td>\n",
       "    </tr>\n",
       "  </tbody>\n",
       "</table><p>\n",
       "\n",
       "    <div>\n",
       "        <style>\n",
       "            /* Turns off some styling */\n",
       "            progress {\n",
       "                /* gets rid of default border in Firefox and Opera. */\n",
       "                border: none;\n",
       "                /* Needs to be in here for Safari polyfill so background images work as expected. */\n",
       "                background-size: auto;\n",
       "            }\n",
       "            .progress-bar-interrupted, .progress-bar-interrupted::-webkit-progress-bar {\n",
       "                background: #F44336;\n",
       "            }\n",
       "        </style>\n",
       "      <progress value='26' class='' max='73' style='width:300px; height:20px; vertical-align: middle;'></progress>\n",
       "      35.62% [26/73 02:56<05:19 9.6144]\n",
       "    </div>\n",
       "    "
      ],
      "text/plain": [
       "<IPython.core.display.HTML object>"
      ]
     },
     "metadata": {},
     "output_type": "display_data"
    },
    {
     "name": "stdout",
     "output_type": "stream",
     "text": [
      "LR Finder is complete, type {learner_name}.recorder.plot() to see the graph.\n"
     ]
    }
   ],
   "source": [
    "#Finding learning rate\n",
    "lm_v3.lr_find()"
   ]
  },
  {
   "cell_type": "code",
   "execution_count": 66,
   "metadata": {},
   "outputs": [
    {
     "data": {
      "image/png": "[encoded data removed]",
      "text/plain": [
       "<Figure size 432x288 with 1 Axes>"
      ]
     },
     "metadata": {
      "needs_background": "light"
     },
     "output_type": "display_data"
    }
   ],
   "source": [
    "#Plotting loss vs learning rate\n",
    "lm_v3.recorder.plot(skip_end=12)"
   ]
  },
  {
   "cell_type": "markdown",
   "metadata": {},
   "source": [
    "### Fine-tuning model via fitting one cycle "
   ]
  },
  {
   "cell_type": "markdown",
   "metadata": {},
   "source": [
    "I fit the 1cycle policy with a maximum learning rate of $1\\times10^{-2}$ and a momentum range of 0.7 to 0.8 on the last layer only with all other layers frozen in place. Note that this is the same learning rate and momentum seen in Standard Gradient Descent (SGD). I do this four times only and I progressively see improvements in the accuracy metric."
   ]
  },
  {
   "cell_type": "code",
   "execution_count": 67,
   "metadata": {},
   "outputs": [
    {
     "data": {
      "text/html": [
       "<table border=\"1\" class=\"dataframe\">\n",
       "  <thead>\n",
       "    <tr style=\"text-align: left;\">\n",
       "      <th>epoch</th>\n",
       "      <th>train_loss</th>\n",
       "      <th>valid_loss</th>\n",
       "      <th>accuracy</th>\n",
       "      <th>time</th>\n",
       "    </tr>\n",
       "  </thead>\n",
       "  <tbody>\n",
       "    <tr>\n",
       "      <td>0</td>\n",
       "      <td>4.624313</td>\n",
       "      <td>4.069607</td>\n",
       "      <td>0.249799</td>\n",
       "      <td>06:48</td>\n",
       "    </tr>\n",
       "  </tbody>\n",
       "</table>"
      ],
      "text/plain": [
       "<IPython.core.display.HTML object>"
      ]
     },
     "metadata": {},
     "output_type": "display_data"
    }
   ],
   "source": [
    "lm_v3.fit_one_cycle(1, 1e-2, moms=(0.8,0.7))"
   ]
  },
  {
   "cell_type": "code",
   "execution_count": 68,
   "metadata": {},
   "outputs": [
    {
     "data": {
      "text/html": [
       "<table border=\"1\" class=\"dataframe\">\n",
       "  <thead>\n",
       "    <tr style=\"text-align: left;\">\n",
       "      <th>epoch</th>\n",
       "      <th>train_loss</th>\n",
       "      <th>valid_loss</th>\n",
       "      <th>accuracy</th>\n",
       "      <th>time</th>\n",
       "    </tr>\n",
       "  </thead>\n",
       "  <tbody>\n",
       "    <tr>\n",
       "      <td>0</td>\n",
       "      <td>3.980346</td>\n",
       "      <td>3.897052</td>\n",
       "      <td>0.265092</td>\n",
       "      <td>06:14</td>\n",
       "    </tr>\n",
       "  </tbody>\n",
       "</table>"
      ],
      "text/plain": [
       "<IPython.core.display.HTML object>"
      ]
     },
     "metadata": {},
     "output_type": "display_data"
    }
   ],
   "source": [
    "lm_v3.fit_one_cycle(1, 1e-2, moms=(0.8,0.7))"
   ]
  },
  {
   "cell_type": "code",
   "execution_count": 69,
   "metadata": {},
   "outputs": [
    {
     "data": {
      "text/html": [
       "<table border=\"1\" class=\"dataframe\">\n",
       "  <thead>\n",
       "    <tr style=\"text-align: left;\">\n",
       "      <th>epoch</th>\n",
       "      <th>train_loss</th>\n",
       "      <th>valid_loss</th>\n",
       "      <th>accuracy</th>\n",
       "      <th>time</th>\n",
       "    </tr>\n",
       "  </thead>\n",
       "  <tbody>\n",
       "    <tr>\n",
       "      <td>0</td>\n",
       "      <td>3.784390</td>\n",
       "      <td>3.833451</td>\n",
       "      <td>0.272747</td>\n",
       "      <td>06:16</td>\n",
       "    </tr>\n",
       "  </tbody>\n",
       "</table>"
      ],
      "text/plain": [
       "<IPython.core.display.HTML object>"
      ]
     },
     "metadata": {},
     "output_type": "display_data"
    }
   ],
   "source": [
    "lm_v3.fit_one_cycle(1, 1e-2, moms=(0.8,0.7))"
   ]
  },
  {
   "cell_type": "code",
   "execution_count": 70,
   "metadata": {},
   "outputs": [
    {
     "data": {
      "text/html": [
       "<table border=\"1\" class=\"dataframe\">\n",
       "  <thead>\n",
       "    <tr style=\"text-align: left;\">\n",
       "      <th>epoch</th>\n",
       "      <th>train_loss</th>\n",
       "      <th>valid_loss</th>\n",
       "      <th>accuracy</th>\n",
       "      <th>time</th>\n",
       "    </tr>\n",
       "  </thead>\n",
       "  <tbody>\n",
       "    <tr>\n",
       "      <td>0</td>\n",
       "      <td>3.610090</td>\n",
       "      <td>3.822565</td>\n",
       "      <td>0.273645</td>\n",
       "      <td>06:15</td>\n",
       "    </tr>\n",
       "  </tbody>\n",
       "</table>"
      ],
      "text/plain": [
       "<IPython.core.display.HTML object>"
      ]
     },
     "metadata": {},
     "output_type": "display_data"
    }
   ],
   "source": [
    "lm_v3.fit_one_cycle(1, 1e-3, moms=(0.8,0.7))"
   ]
  },
  {
   "cell_type": "code",
   "execution_count": 71,
   "metadata": {},
   "outputs": [],
   "source": [
    "# Save LM before unfreezing layers\n",
    "lm_v3.save('fit_head_v3_bs60_85')"
   ]
  },
  {
   "cell_type": "code",
   "execution_count": 59,
   "metadata": {},
   "outputs": [],
   "source": [
    "lm_v3.load('fit_head_v3_bs60_85');"
   ]
  },
  {
   "cell_type": "markdown",
   "metadata": {},
   "source": [
    "Can further improve the model training by unfreezing all the layers and launching a new training. Stop at 5 epochs in order to avoid overfitting the training set."
   ]
  },
  {
   "cell_type": "code",
   "execution_count": 62,
   "metadata": {},
   "outputs": [],
   "source": [
    "# Unfreeze all layers\n",
    "lm_v3.unfreeze()"
   ]
  },
  {
   "cell_type": "code",
   "execution_count": 63,
   "metadata": {},
   "outputs": [
    {
     "data": {
      "text/html": [
       "<table border=\"1\" class=\"dataframe\">\n",
       "  <thead>\n",
       "    <tr style=\"text-align: left;\">\n",
       "      <th>epoch</th>\n",
       "      <th>train_loss</th>\n",
       "      <th>valid_loss</th>\n",
       "      <th>accuracy</th>\n",
       "      <th>time</th>\n",
       "    </tr>\n",
       "  </thead>\n",
       "  <tbody>\n",
       "    <tr>\n",
       "      <td>0</td>\n",
       "      <td>3.516181</td>\n",
       "      <td>3.751433</td>\n",
       "      <td>0.282839</td>\n",
       "      <td>10:07</td>\n",
       "    </tr>\n",
       "    <tr>\n",
       "      <td>1</td>\n",
       "      <td>3.418897</td>\n",
       "      <td>3.693372</td>\n",
       "      <td>0.292125</td>\n",
       "      <td>09:28</td>\n",
       "    </tr>\n",
       "    <tr>\n",
       "      <td>2</td>\n",
       "      <td>3.199362</td>\n",
       "      <td>3.686542</td>\n",
       "      <td>0.295458</td>\n",
       "      <td>09:16</td>\n",
       "    </tr>\n",
       "    <tr>\n",
       "      <td>3</td>\n",
       "      <td>2.962723</td>\n",
       "      <td>3.726274</td>\n",
       "      <td>0.294157</td>\n",
       "      <td>09:09</td>\n",
       "    </tr>\n",
       "    <tr>\n",
       "      <td>4</td>\n",
       "      <td>2.773989</td>\n",
       "      <td>3.759375</td>\n",
       "      <td>0.293810</td>\n",
       "      <td>09:30</td>\n",
       "    </tr>\n",
       "  </tbody>\n",
       "</table>"
      ],
      "text/plain": [
       "<IPython.core.display.HTML object>"
      ]
     },
     "metadata": {},
     "output_type": "display_data"
    }
   ],
   "source": [
    "# Fit five cycles unfrozen with learning rate at 0.001 and momentum range from 0.7 and 0.8.\n",
    "lm_v3.fit_one_cycle(5,1e-3,moms=(0.8,0.7))"
   ]
  },
  {
   "cell_type": "code",
   "execution_count": 64,
   "metadata": {},
   "outputs": [],
   "source": [
    "# Save trained language model object.\n",
    "lm_v3.save('fine_tuned_lm')"
   ]
  },
  {
   "cell_type": "code",
   "execution_count": 60,
   "metadata": {},
   "outputs": [
    {
     "data": {
      "text/plain": [
       "LanguageLearner(data=TextLMDataBunch;\n",
       "\n",
       "Train: LabelList (12445 items)\n",
       "x: LMTextList\n",
       "xxbos @americanair record locator oaaret got email we could n't be rebooked but got no notification flight was xxmaj cancelled xxmaj flightled,xxbos @americanair xxmaj what are we going to do about the nightmare you guys out me through yesterday ? xxmaj zero response from the tweet you last sent me .,xxbos @southwestair xxmaj late xxmaj flightly you 've always been xxmaj late xxmaj flight ! xxmaj please get back to the old # xxup swa ! !,xxbos @united stuck here in xxup iah waiting on flight xxunk to xxmaj honolulu for 7 hours due to maintenance issues . xxmaj could we have gotten a new plane ! ? ! ? xxmaj fail,xxbos @united so who does handle bag issues ? xxmaj and why would n't you put me onto them in the first place ?\n",
       "y: LMLabelList\n",
       ",,,,\n",
       "Path: .;\n",
       "\n",
       "Valid: LabelList (2195 items)\n",
       "x: LMTextList\n",
       "xxbos @united xxunk hi , when do direct flights from xxmaj houston to xxmaj xxunk begin ? xxmaj do n't see any days in xxmaj march ?,xxbos @jetblue she 's standing here on her cell no announcements no info # xxunk,xxbos @jetblue xxmaj received an xxunk to xxunk in e - rewards . xxmaj is this legit from jetblue ? xxmaj just double checking bc the site looked different .,xxbos @jetblue xxmaj no , it 's weird ! ! i picked other cities just to test , those worked ... not the one i want . xxmaj works on phone though , so i 'll use that .,xxbos @usairways : i experienced what xxunk customer service on # xxup xxunk . a flight attendant willing to follow up with a passenger on bag charges\n",
       "y: LMLabelList\n",
       ",,,,\n",
       "Path: .;\n",
       "\n",
       "Test: None, model=SequentialRNN(\n",
       "  (0): AWD_LSTM(\n",
       "    (encoder): Embedding(6080, 400, padding_idx=1)\n",
       "    (encoder_dp): EmbeddingDropout(\n",
       "      (emb): Embedding(6080, 400, padding_idx=1)\n",
       "    )\n",
       "    (rnns): ModuleList(\n",
       "      (0): WeightDropout(\n",
       "        (module): LSTM(400, 1152, batch_first=True)\n",
       "      )\n",
       "      (1): WeightDropout(\n",
       "        (module): LSTM(1152, 1152, batch_first=True)\n",
       "      )\n",
       "      (2): WeightDropout(\n",
       "        (module): LSTM(1152, 400, batch_first=True)\n",
       "      )\n",
       "    )\n",
       "    (input_dp): RNNDropout()\n",
       "    (hidden_dps): ModuleList(\n",
       "      (0): RNNDropout()\n",
       "      (1): RNNDropout()\n",
       "      (2): RNNDropout()\n",
       "    )\n",
       "  )\n",
       "  (1): LinearDecoder(\n",
       "    (decoder): Linear(in_features=400, out_features=6080, bias=True)\n",
       "    (output_dp): RNNDropout()\n",
       "  )\n",
       "), opt_func=functools.partial(<class 'torch.optim.adam.Adam'>, betas=(0.9, 0.99)), loss_func=FlattenedLoss of CrossEntropyLoss(), metrics=[<function accuracy at 0x7fa8b980be18>], true_wd=True, bn_wd=True, wd=0.01, train_bn=True, path=PosixPath('.'), model_dir='models', callback_fns=[functools.partial(<class 'fastai.basic_train.Recorder'>, add_time=True, silent=False)], callbacks=[RNNTrainer\n",
       "learn: LanguageLearner(data=TextLMDataBunch;\n",
       "\n",
       "Train: LabelList (12445 items)\n",
       "x: LMTextList\n",
       "xxbos @americanair record locator oaaret got email we could n't be rebooked but got no notification flight was xxmaj cancelled xxmaj flightled,xxbos @americanair xxmaj what are we going to do about the nightmare you guys out me through yesterday ? xxmaj zero response from the tweet you last sent me .,xxbos @southwestair xxmaj late xxmaj flightly you 've always been xxmaj late xxmaj flight ! xxmaj please get back to the old # xxup swa ! !,xxbos @united stuck here in xxup iah waiting on flight xxunk to xxmaj honolulu for 7 hours due to maintenance issues . xxmaj could we have gotten a new plane ! ? ! ? xxmaj fail,xxbos @united so who does handle bag issues ? xxmaj and why would n't you put me onto them in the first place ?\n",
       "y: LMLabelList\n",
       ",,,,\n",
       "Path: .;\n",
       "\n",
       "Valid: LabelList (2195 items)\n",
       "x: LMTextList\n",
       "xxbos @united xxunk hi , when do direct flights from xxmaj houston to xxmaj xxunk begin ? xxmaj do n't see any days in xxmaj march ?,xxbos @jetblue she 's standing here on her cell no announcements no info # xxunk,xxbos @jetblue xxmaj received an xxunk to xxunk in e - rewards . xxmaj is this legit from jetblue ? xxmaj just double checking bc the site looked different .,xxbos @jetblue xxmaj no , it 's weird ! ! i picked other cities just to test , those worked ... not the one i want . xxmaj works on phone though , so i 'll use that .,xxbos @usairways : i experienced what xxunk customer service on # xxup xxunk . a flight attendant willing to follow up with a passenger on bag charges\n",
       "y: LMLabelList\n",
       ",,,,\n",
       "Path: .;\n",
       "\n",
       "Test: None, model=SequentialRNN(\n",
       "  (0): AWD_LSTM(\n",
       "    (encoder): Embedding(6080, 400, padding_idx=1)\n",
       "    (encoder_dp): EmbeddingDropout(\n",
       "      (emb): Embedding(6080, 400, padding_idx=1)\n",
       "    )\n",
       "    (rnns): ModuleList(\n",
       "      (0): WeightDropout(\n",
       "        (module): LSTM(400, 1152, batch_first=True)\n",
       "      )\n",
       "      (1): WeightDropout(\n",
       "        (module): LSTM(1152, 1152, batch_first=True)\n",
       "      )\n",
       "      (2): WeightDropout(\n",
       "        (module): LSTM(1152, 400, batch_first=True)\n",
       "      )\n",
       "    )\n",
       "    (input_dp): RNNDropout()\n",
       "    (hidden_dps): ModuleList(\n",
       "      (0): RNNDropout()\n",
       "      (1): RNNDropout()\n",
       "      (2): RNNDropout()\n",
       "    )\n",
       "  )\n",
       "  (1): LinearDecoder(\n",
       "    (decoder): Linear(in_features=400, out_features=6080, bias=True)\n",
       "    (output_dp): RNNDropout()\n",
       "  )\n",
       "), opt_func=functools.partial(<class 'torch.optim.adam.Adam'>, betas=(0.9, 0.99)), loss_func=FlattenedLoss of CrossEntropyLoss(), metrics=[<function accuracy at 0x7fa8b980be18>], true_wd=True, bn_wd=True, wd=0.01, train_bn=True, path=PosixPath('.'), model_dir='models', callback_fns=[functools.partial(<class 'fastai.basic_train.Recorder'>, add_time=True, silent=False)], callbacks=[...], layer_groups=[Sequential(\n",
       "  (0): WeightDropout(\n",
       "    (module): LSTM(400, 1152, batch_first=True)\n",
       "  )\n",
       "  (1): RNNDropout()\n",
       "), Sequential(\n",
       "  (0): WeightDropout(\n",
       "    (module): LSTM(1152, 1152, batch_first=True)\n",
       "  )\n",
       "  (1): RNNDropout()\n",
       "), Sequential(\n",
       "  (0): WeightDropout(\n",
       "    (module): LSTM(1152, 400, batch_first=True)\n",
       "  )\n",
       "  (1): RNNDropout()\n",
       "), Sequential(\n",
       "  (0): Embedding(6080, 400, padding_idx=1)\n",
       "  (1): EmbeddingDropout(\n",
       "    (emb): Embedding(6080, 400, padding_idx=1)\n",
       "  )\n",
       "  (2): LinearDecoder(\n",
       "    (decoder): Linear(in_features=400, out_features=6080, bias=True)\n",
       "    (output_dp): RNNDropout()\n",
       "  )\n",
       ")], add_time=True, silent=False)\n",
       "alpha: 2.0\n",
       "beta: 1.0], layer_groups=[Sequential(\n",
       "  (0): WeightDropout(\n",
       "    (module): LSTM(400, 1152, batch_first=True)\n",
       "  )\n",
       "  (1): RNNDropout()\n",
       "), Sequential(\n",
       "  (0): WeightDropout(\n",
       "    (module): LSTM(1152, 1152, batch_first=True)\n",
       "  )\n",
       "  (1): RNNDropout()\n",
       "), Sequential(\n",
       "  (0): WeightDropout(\n",
       "    (module): LSTM(1152, 400, batch_first=True)\n",
       "  )\n",
       "  (1): RNNDropout()\n",
       "), Sequential(\n",
       "  (0): Embedding(6080, 400, padding_idx=1)\n",
       "  (1): EmbeddingDropout(\n",
       "    (emb): Embedding(6080, 400, padding_idx=1)\n",
       "  )\n",
       "  (2): LinearDecoder(\n",
       "    (decoder): Linear(in_features=400, out_features=6080, bias=True)\n",
       "    (output_dp): RNNDropout()\n",
       "  )\n",
       ")], add_time=True, silent=False)"
      ]
     },
     "execution_count": 60,
     "metadata": {},
     "output_type": "execute_result"
    }
   ],
   "source": [
    "lm_v3.load('fine_tuned_lm')"
   ]
  },
  {
   "cell_type": "markdown",
   "metadata": {},
   "source": [
    "Can test our model with a couple of words and different sentences."
   ]
  },
  {
   "cell_type": "code",
   "execution_count": 67,
   "metadata": {},
   "outputs": [],
   "source": [
    "TEXT = 'This airline is'\n",
    "N_WORDS = 40\n",
    "N_SENTENCES = 5"
   ]
  },
  {
   "cell_type": "code",
   "execution_count": 68,
   "metadata": {},
   "outputs": [
    {
     "name": "stdout",
     "output_type": "stream",
     "text": [
      "This airline is the absolute worst . This is everything you started . @maryella_green just got me back on my first flight back . xxbos @southwestair Not really right . Or if you have the option for the pilots\n",
      "This airline is the WORST ! i 've been on hold for over an hour trying to rebook a flight . Help ! xxbos @usairways You guys are so bad ! No one knows how to treat customers ,\n",
      "This airline is my favorite airline ! i 've been on hold for over 2 hours and has never been on hold with me . Thank you ! xxbos @americanair i happy to say you have a good luck , but you\n",
      "This airline is doing a great job at ruining my vacation . # jvmchat xxbos @virginamerica your customer service is terrible . You have a great customer service , and you are the best xxbos @usairways is flight 1051 on 21 /\n",
      "This airline is informed that the you do n't provide any fees during the delays or Cancelled Flightlations at Newark ... xxbos @americanair we are stuck in the snow for several hours now at this airport to make a reservation\n"
     ]
    }
   ],
   "source": [
    "print(\"\\n\".join(lm_v3.predict(TEXT,N_WORDS,temperature=0.75) for _ in range(N_SENTENCES)))"
   ]
  },
  {
   "cell_type": "markdown",
   "metadata": {},
   "source": [
    "The language model predicts something new for each sentence. \n",
    "\n",
    "We have to save not only the model, but also its encoder, the part that's responsible for creating and updating the hidden state. For the next part, we don't care about the part that tries to guess the next word.\n"
   ]
  },
  {
   "cell_type": "code",
   "execution_count": 69,
   "metadata": {},
   "outputs": [],
   "source": [
    "lm_v3.save_encoder('fine_tuned_enc_v3')"
   ]
  },
  {
   "cell_type": "markdown",
   "metadata": {},
   "source": [
    "## 5.2: Classifier"
   ]
  },
  {
   "cell_type": "markdown",
   "metadata": {},
   "source": [
    "We need to create a new data bunch object for the classifier this time."
   ]
  },
  {
   "cell_type": "code",
   "execution_count": 59,
   "metadata": {},
   "outputs": [
    {
     "data": {
      "text/html": [],
      "text/plain": [
       "<IPython.core.display.HTML object>"
      ]
     },
     "metadata": {},
     "output_type": "display_data"
    },
    {
     "data": {
      "text/html": [],
      "text/plain": [
       "<IPython.core.display.HTML object>"
      ]
     },
     "metadata": {},
     "output_type": "display_data"
    }
   ],
   "source": [
    "data_clas=TextClasDataBunch.from_df(path=path,train_df=df_train,vocab=data_lm_v3.train_ds.vocab,valid_df=df_valid,label_cols='airline_sentiment', text_cols='text',bs=bs)"
   ]
  },
  {
   "cell_type": "code",
   "execution_count": 72,
   "metadata": {},
   "outputs": [],
   "source": [
    "data_clas.save('data_clas_v3.pkl')"
   ]
  },
  {
   "cell_type": "code",
   "execution_count": 73,
   "metadata": {},
   "outputs": [
    {
     "data": {
      "text/html": [
       "<table border=\"1\" class=\"dataframe\">\n",
       "  <thead>\n",
       "    <tr style=\"text-align: right;\">\n",
       "      <th>text</th>\n",
       "      <th>target</th>\n",
       "    </tr>\n",
       "  </thead>\n",
       "  <tbody>\n",
       "    <tr>\n",
       "      <td>xxbos @united xxmaj hi have a question re future xxmaj flight xxmaj booking xxmaj problems . xxup dub - xxup jac 29 / 9 xxup jac - xxup lax 8 / 10 xxup lax - xxup dub 13 / 10 . i 'm * xxup g. xxmaj what is checked bag allowance for xxup jac - xxup lax ?</td>\n",
       "      <td>neutral</td>\n",
       "    </tr>\n",
       "    <tr>\n",
       "      <td>xxbos @united i xxup just xxup asked xxup my xxup boyfriend xxup to xxup prom xxup over xxup the xxup xxunk xxup on xxup flight 494 xxup he xxup said xxup yes xxrep 4 ! xxup best xxup day xxup ever ! ! ! xxup thank u xxup so xxup much xxrep 6 !</td>\n",
       "      <td>positive</td>\n",
       "    </tr>\n",
       "    <tr>\n",
       "      <td>xxbos @united xxup where xxup is xxup my xxup fucking xxup bag ? ! ? ! xxmaj where the fuck is my fucking bag ? ? ? xxup tell xxup me xxup now xxup or xxup give xxup me a xxup number xxup to xxup call a xxup human . xxup san68059 m</td>\n",
       "      <td>negative</td>\n",
       "    </tr>\n",
       "    <tr>\n",
       "      <td>xxbos @usairways xxup plans xxup changed ! xxup is xxup that xxup what u xxup call xxup not xxup xxunk xxup able 2 xxup park xxup on xxup time xxup planes w a 2 xxup hr xxup layover n b xxup able 2 xxup make xxup ur xxup connection ! # seriously</td>\n",
       "      <td>negative</td>\n",
       "    </tr>\n",
       "    <tr>\n",
       "      <td>xxbos @united xxmaj waiting for 3494 xxup ewr - xxup ord , delayed 47 mins . xxmaj might miss xxunk xxup ord - xxup ywg at 6 pm xxup ct . xxmaj any room on xxunk xxup ord - xxup ywg in case i miss xxunk ?</td>\n",
       "      <td>negative</td>\n",
       "    </tr>\n",
       "  </tbody>\n",
       "</table>"
      ],
      "text/plain": [
       "<IPython.core.display.HTML object>"
      ]
     },
     "metadata": {},
     "output_type": "display_data"
    }
   ],
   "source": [
    "data_clas.show_batch()"
   ]
  },
  {
   "cell_type": "markdown",
   "metadata": {},
   "source": [
    "We can then create a model to classify those reviews and load the encoder we saved before."
   ]
  },
  {
   "cell_type": "code",
   "execution_count": 61,
   "metadata": {},
   "outputs": [
    {
     "data": {
      "text/plain": [
       "RNNLearner(data=TextClasDataBunch;\n",
       "\n",
       "Train: LabelList (12445 items)\n",
       "x: TextList\n",
       "xxbos @americanair record locator oaaret got email we could n't be rebooked but got no notification flight was xxmaj cancelled xxmaj flightled,xxbos @americanair xxmaj what are we going to do about the nightmare you guys out me through yesterday ? xxmaj zero response from the tweet you last sent me .,xxbos @southwestair xxmaj late xxmaj flightly you 've always been xxmaj late xxmaj flight ! xxmaj please get back to the old # xxup swa ! !,xxbos @united stuck here in xxup iah waiting on flight xxunk to xxmaj honolulu for 7 hours due to maintenance issues . xxmaj could we have gotten a new plane ! ? ! ? xxmaj fail,xxbos @united so who does handle bag issues ? xxmaj and why would n't you put me onto them in the first place ?\n",
       "y: CategoryList\n",
       "negative,negative,negative,negative,negative\n",
       "Path: .;\n",
       "\n",
       "Valid: LabelList (2195 items)\n",
       "x: TextList\n",
       "xxbos @united xxunk hi , when do direct flights from xxmaj houston to xxmaj xxunk begin ? xxmaj do n't see any days in xxmaj march ?,xxbos @jetblue she 's standing here on her cell no announcements no info # xxunk,xxbos @jetblue xxmaj received an xxunk to xxunk in e - rewards . xxmaj is this legit from jetblue ? xxmaj just double checking bc the site looked different .,xxbos @jetblue xxmaj no , it 's weird ! ! i picked other cities just to test , those worked ... not the one i want . xxmaj works on phone though , so i 'll use that .,xxbos @usairways : i experienced what xxunk customer service on # xxup xxunk . a flight attendant willing to follow up with a passenger on bag charges\n",
       "y: CategoryList\n",
       "neutral,negative,neutral,neutral,negative\n",
       "Path: .;\n",
       "\n",
       "Test: None, model=SequentialRNN(\n",
       "  (0): MultiBatchEncoder(\n",
       "    (module): AWD_LSTM(\n",
       "      (encoder): Embedding(6080, 400, padding_idx=1)\n",
       "      (encoder_dp): EmbeddingDropout(\n",
       "        (emb): Embedding(6080, 400, padding_idx=1)\n",
       "      )\n",
       "      (rnns): ModuleList(\n",
       "        (0): WeightDropout(\n",
       "          (module): LSTM(400, 1152, batch_first=True)\n",
       "        )\n",
       "        (1): WeightDropout(\n",
       "          (module): LSTM(1152, 1152, batch_first=True)\n",
       "        )\n",
       "        (2): WeightDropout(\n",
       "          (module): LSTM(1152, 400, batch_first=True)\n",
       "        )\n",
       "      )\n",
       "      (input_dp): RNNDropout()\n",
       "      (hidden_dps): ModuleList(\n",
       "        (0): RNNDropout()\n",
       "        (1): RNNDropout()\n",
       "        (2): RNNDropout()\n",
       "      )\n",
       "    )\n",
       "  )\n",
       "  (1): PoolingLinearClassifier(\n",
       "    (layers): Sequential(\n",
       "      (0): BatchNorm1d(1200, eps=1e-05, momentum=0.1, affine=True, track_running_stats=True)\n",
       "      (1): Dropout(p=0.2, inplace=False)\n",
       "      (2): Linear(in_features=1200, out_features=50, bias=True)\n",
       "      (3): ReLU(inplace=True)\n",
       "      (4): BatchNorm1d(50, eps=1e-05, momentum=0.1, affine=True, track_running_stats=True)\n",
       "      (5): Dropout(p=0.1, inplace=False)\n",
       "      (6): Linear(in_features=50, out_features=3, bias=True)\n",
       "    )\n",
       "  )\n",
       "), opt_func=functools.partial(<class 'torch.optim.adam.Adam'>, betas=(0.9, 0.99)), loss_func=FlattenedLoss of CrossEntropyLoss(), metrics=[<function accuracy at 0x7fe9cd0d1ea0>], true_wd=True, bn_wd=True, wd=0.01, train_bn=True, path=PosixPath('.'), model_dir='models', callback_fns=[functools.partial(<class 'fastai.basic_train.Recorder'>, add_time=True, silent=False)], callbacks=[RNNTrainer\n",
       "learn: RNNLearner(data=TextClasDataBunch;\n",
       "\n",
       "Train: LabelList (12445 items)\n",
       "x: TextList\n",
       "xxbos @americanair record locator oaaret got email we could n't be rebooked but got no notification flight was xxmaj cancelled xxmaj flightled,xxbos @americanair xxmaj what are we going to do about the nightmare you guys out me through yesterday ? xxmaj zero response from the tweet you last sent me .,xxbos @southwestair xxmaj late xxmaj flightly you 've always been xxmaj late xxmaj flight ! xxmaj please get back to the old # xxup swa ! !,xxbos @united stuck here in xxup iah waiting on flight xxunk to xxmaj honolulu for 7 hours due to maintenance issues . xxmaj could we have gotten a new plane ! ? ! ? xxmaj fail,xxbos @united so who does handle bag issues ? xxmaj and why would n't you put me onto them in the first place ?\n",
       "y: CategoryList\n",
       "negative,negative,negative,negative,negative\n",
       "Path: .;\n",
       "\n",
       "Valid: LabelList (2195 items)\n",
       "x: TextList\n",
       "xxbos @united xxunk hi , when do direct flights from xxmaj houston to xxmaj xxunk begin ? xxmaj do n't see any days in xxmaj march ?,xxbos @jetblue she 's standing here on her cell no announcements no info # xxunk,xxbos @jetblue xxmaj received an xxunk to xxunk in e - rewards . xxmaj is this legit from jetblue ? xxmaj just double checking bc the site looked different .,xxbos @jetblue xxmaj no , it 's weird ! ! i picked other cities just to test , those worked ... not the one i want . xxmaj works on phone though , so i 'll use that .,xxbos @usairways : i experienced what xxunk customer service on # xxup xxunk . a flight attendant willing to follow up with a passenger on bag charges\n",
       "y: CategoryList\n",
       "neutral,negative,neutral,neutral,negative\n",
       "Path: .;\n",
       "\n",
       "Test: None, model=SequentialRNN(\n",
       "  (0): MultiBatchEncoder(\n",
       "    (module): AWD_LSTM(\n",
       "      (encoder): Embedding(6080, 400, padding_idx=1)\n",
       "      (encoder_dp): EmbeddingDropout(\n",
       "        (emb): Embedding(6080, 400, padding_idx=1)\n",
       "      )\n",
       "      (rnns): ModuleList(\n",
       "        (0): WeightDropout(\n",
       "          (module): LSTM(400, 1152, batch_first=True)\n",
       "        )\n",
       "        (1): WeightDropout(\n",
       "          (module): LSTM(1152, 1152, batch_first=True)\n",
       "        )\n",
       "        (2): WeightDropout(\n",
       "          (module): LSTM(1152, 400, batch_first=True)\n",
       "        )\n",
       "      )\n",
       "      (input_dp): RNNDropout()\n",
       "      (hidden_dps): ModuleList(\n",
       "        (0): RNNDropout()\n",
       "        (1): RNNDropout()\n",
       "        (2): RNNDropout()\n",
       "      )\n",
       "    )\n",
       "  )\n",
       "  (1): PoolingLinearClassifier(\n",
       "    (layers): Sequential(\n",
       "      (0): BatchNorm1d(1200, eps=1e-05, momentum=0.1, affine=True, track_running_stats=True)\n",
       "      (1): Dropout(p=0.2, inplace=False)\n",
       "      (2): Linear(in_features=1200, out_features=50, bias=True)\n",
       "      (3): ReLU(inplace=True)\n",
       "      (4): BatchNorm1d(50, eps=1e-05, momentum=0.1, affine=True, track_running_stats=True)\n",
       "      (5): Dropout(p=0.1, inplace=False)\n",
       "      (6): Linear(in_features=50, out_features=3, bias=True)\n",
       "    )\n",
       "  )\n",
       "), opt_func=functools.partial(<class 'torch.optim.adam.Adam'>, betas=(0.9, 0.99)), loss_func=FlattenedLoss of CrossEntropyLoss(), metrics=[<function accuracy at 0x7fe9cd0d1ea0>], true_wd=True, bn_wd=True, wd=0.01, train_bn=True, path=PosixPath('.'), model_dir='models', callback_fns=[functools.partial(<class 'fastai.basic_train.Recorder'>, add_time=True, silent=False)], callbacks=[...], layer_groups=[Sequential(\n",
       "  (0): Embedding(6080, 400, padding_idx=1)\n",
       "  (1): EmbeddingDropout(\n",
       "    (emb): Embedding(6080, 400, padding_idx=1)\n",
       "  )\n",
       "), Sequential(\n",
       "  (0): WeightDropout(\n",
       "    (module): LSTM(400, 1152, batch_first=True)\n",
       "  )\n",
       "  (1): RNNDropout()\n",
       "), Sequential(\n",
       "  (0): WeightDropout(\n",
       "    (module): LSTM(1152, 1152, batch_first=True)\n",
       "  )\n",
       "  (1): RNNDropout()\n",
       "), Sequential(\n",
       "  (0): WeightDropout(\n",
       "    (module): LSTM(1152, 400, batch_first=True)\n",
       "  )\n",
       "  (1): RNNDropout()\n",
       "), Sequential(\n",
       "  (0): PoolingLinearClassifier(\n",
       "    (layers): Sequential(\n",
       "      (0): BatchNorm1d(1200, eps=1e-05, momentum=0.1, affine=True, track_running_stats=True)\n",
       "      (1): Dropout(p=0.2, inplace=False)\n",
       "      (2): Linear(in_features=1200, out_features=50, bias=True)\n",
       "      (3): ReLU(inplace=True)\n",
       "      (4): BatchNorm1d(50, eps=1e-05, momentum=0.1, affine=True, track_running_stats=True)\n",
       "      (5): Dropout(p=0.1, inplace=False)\n",
       "      (6): Linear(in_features=50, out_features=3, bias=True)\n",
       "    )\n",
       "  )\n",
       ")], add_time=True, silent=False)\n",
       "alpha: 2.0\n",
       "beta: 1.0], layer_groups=[Sequential(\n",
       "  (0): Embedding(6080, 400, padding_idx=1)\n",
       "  (1): EmbeddingDropout(\n",
       "    (emb): Embedding(6080, 400, padding_idx=1)\n",
       "  )\n",
       "), Sequential(\n",
       "  (0): WeightDropout(\n",
       "    (module): LSTM(400, 1152, batch_first=True)\n",
       "  )\n",
       "  (1): RNNDropout()\n",
       "), Sequential(\n",
       "  (0): WeightDropout(\n",
       "    (module): LSTM(1152, 1152, batch_first=True)\n",
       "  )\n",
       "  (1): RNNDropout()\n",
       "), Sequential(\n",
       "  (0): WeightDropout(\n",
       "    (module): LSTM(1152, 400, batch_first=True)\n",
       "  )\n",
       "  (1): RNNDropout()\n",
       "), Sequential(\n",
       "  (0): PoolingLinearClassifier(\n",
       "    (layers): Sequential(\n",
       "      (0): BatchNorm1d(1200, eps=1e-05, momentum=0.1, affine=True, track_running_stats=True)\n",
       "      (1): Dropout(p=0.2, inplace=False)\n",
       "      (2): Linear(in_features=1200, out_features=50, bias=True)\n",
       "      (3): ReLU(inplace=True)\n",
       "      (4): BatchNorm1d(50, eps=1e-05, momentum=0.1, affine=True, track_running_stats=True)\n",
       "      (5): Dropout(p=0.1, inplace=False)\n",
       "      (6): Linear(in_features=50, out_features=3, bias=True)\n",
       "    )\n",
       "  )\n",
       ")], add_time=True, silent=False)"
      ]
     },
     "execution_count": 61,
     "metadata": {},
     "output_type": "execute_result"
    }
   ],
   "source": [
    "classifier = text_classifier_learner(data_clas, AWD_LSTM, drop_mult = 0.5)\n",
    "classifier.load_encoder('fine_tuned_enc_v3')"
   ]
  },
  {
   "cell_type": "markdown",
   "metadata": {},
   "source": [
    "### Finding optimal learning rate"
   ]
  },
  {
   "cell_type": "code",
   "execution_count": 103,
   "metadata": {
    "scrolled": true
   },
   "outputs": [
    {
     "data": {
      "text/html": [
       "\n",
       "    <div>\n",
       "        <style>\n",
       "            /* Turns off some styling */\n",
       "            progress {\n",
       "                /* gets rid of default border in Firefox and Opera. */\n",
       "                border: none;\n",
       "                /* Needs to be in here for Safari polyfill so background images work as expected. */\n",
       "                background-size: auto;\n",
       "            }\n",
       "            .progress-bar-interrupted, .progress-bar-interrupted::-webkit-progress-bar {\n",
       "                background: #F44336;\n",
       "            }\n",
       "        </style>\n",
       "      <progress value='0' class='' max='1' style='width:300px; height:20px; vertical-align: middle;'></progress>\n",
       "      0.00% [0/1 00:00<00:00]\n",
       "    </div>\n",
       "    \n",
       "<table border=\"1\" class=\"dataframe\">\n",
       "  <thead>\n",
       "    <tr style=\"text-align: left;\">\n",
       "      <th>epoch</th>\n",
       "      <th>train_loss</th>\n",
       "      <th>valid_loss</th>\n",
       "      <th>accuracy</th>\n",
       "      <th>time</th>\n",
       "    </tr>\n",
       "  </thead>\n",
       "  <tbody>\n",
       "  </tbody>\n",
       "</table><p>\n",
       "\n",
       "    <div>\n",
       "        <style>\n",
       "            /* Turns off some styling */\n",
       "            progress {\n",
       "                /* gets rid of default border in Firefox and Opera. */\n",
       "                border: none;\n",
       "                /* Needs to be in here for Safari polyfill so background images work as expected. */\n",
       "                background-size: auto;\n",
       "            }\n",
       "            .progress-bar-interrupted, .progress-bar-interrupted::-webkit-progress-bar {\n",
       "                background: #F44336;\n",
       "            }\n",
       "        </style>\n",
       "      <progress value='95' class='' max='207' style='width:300px; height:20px; vertical-align: middle;'></progress>\n",
       "      45.89% [95/207 01:18<01:32 3.5270]\n",
       "    </div>\n",
       "    "
      ],
      "text/plain": [
       "<IPython.core.display.HTML object>"
      ]
     },
     "metadata": {},
     "output_type": "display_data"
    },
    {
     "name": "stdout",
     "output_type": "stream",
     "text": [
      "LR Finder is complete, type {learner_name}.recorder.plot() to see the graph.\n"
     ]
    }
   ],
   "source": [
    "classifier.lr_find()"
   ]
  },
  {
   "cell_type": "code",
   "execution_count": 104,
   "metadata": {},
   "outputs": [
    {
     "data": {
      "image/png": "[encoded data removed]",
      "text/plain": [
       "<Figure size 432x288 with 1 Axes>"
      ]
     },
     "metadata": {
      "needs_background": "light"
     },
     "output_type": "display_data"
    }
   ],
   "source": [
    "classifier.recorder.plot(skip_end=12)"
   ]
  },
  {
   "cell_type": "markdown",
   "metadata": {},
   "source": [
    "### Fine-tuning model via fitting one cycle "
   ]
  },
  {
   "cell_type": "markdown",
   "metadata": {},
   "source": [
    "Immediately see after just training on the last layer an accuracy of 77.7%."
   ]
  },
  {
   "cell_type": "code",
   "execution_count": 105,
   "metadata": {},
   "outputs": [
    {
     "data": {
      "text/html": [
       "<table border=\"1\" class=\"dataframe\">\n",
       "  <thead>\n",
       "    <tr style=\"text-align: left;\">\n",
       "      <th>epoch</th>\n",
       "      <th>train_loss</th>\n",
       "      <th>valid_loss</th>\n",
       "      <th>accuracy</th>\n",
       "      <th>time</th>\n",
       "    </tr>\n",
       "  </thead>\n",
       "  <tbody>\n",
       "    <tr>\n",
       "      <td>0</td>\n",
       "      <td>0.632483</td>\n",
       "      <td>0.553886</td>\n",
       "      <td>0.777221</td>\n",
       "      <td>03:27</td>\n",
       "    </tr>\n",
       "  </tbody>\n",
       "</table>"
      ],
      "text/plain": [
       "<IPython.core.display.HTML object>"
      ]
     },
     "metadata": {},
     "output_type": "display_data"
    }
   ],
   "source": [
    "classifier.fit_one_cycle(1, 2e-2, moms=(0.8,0.7)) "
   ]
  },
  {
   "cell_type": "code",
   "execution_count": 106,
   "metadata": {},
   "outputs": [],
   "source": [
    "classifier.save('first_clas')"
   ]
  },
  {
   "cell_type": "code",
   "execution_count": 63,
   "metadata": {},
   "outputs": [],
   "source": [
    "classifier.load('first_clas');"
   ]
  },
  {
   "cell_type": "markdown",
   "metadata": {},
   "source": [
    "Training on the last two layers only, the accuracy improve to 79%."
   ]
  },
  {
   "cell_type": "code",
   "execution_count": 64,
   "metadata": {},
   "outputs": [
    {
     "data": {
      "text/html": [
       "<table border=\"1\" class=\"dataframe\">\n",
       "  <thead>\n",
       "    <tr style=\"text-align: left;\">\n",
       "      <th>epoch</th>\n",
       "      <th>train_loss</th>\n",
       "      <th>valid_loss</th>\n",
       "      <th>accuracy</th>\n",
       "      <th>time</th>\n",
       "    </tr>\n",
       "  </thead>\n",
       "  <tbody>\n",
       "    <tr>\n",
       "      <td>0</td>\n",
       "      <td>0.606427</td>\n",
       "      <td>0.508358</td>\n",
       "      <td>0.790888</td>\n",
       "      <td>03:36</td>\n",
       "    </tr>\n",
       "  </tbody>\n",
       "</table>"
      ],
      "text/plain": [
       "<IPython.core.display.HTML object>"
      ]
     },
     "metadata": {},
     "output_type": "display_data"
    }
   ],
   "source": [
    "classifier.freeze_to(-2)\n",
    "classifier.fit_one_cycle(1, slice(1e-2/(2.6**4),1e-2), moms=(0.8,0.7)) "
   ]
  },
  {
   "cell_type": "code",
   "execution_count": 65,
   "metadata": {},
   "outputs": [],
   "source": [
    "classifier.save('second_clas')"
   ]
  },
  {
   "cell_type": "code",
   "execution_count": 66,
   "metadata": {},
   "outputs": [],
   "source": [
    "classifier.load('second_clas');"
   ]
  },
  {
   "cell_type": "markdown",
   "metadata": {},
   "source": [
    "Training on the last three layers only, the accuracy improves to 81%."
   ]
  },
  {
   "cell_type": "code",
   "execution_count": 67,
   "metadata": {},
   "outputs": [
    {
     "data": {
      "text/html": [
       "<table border=\"1\" class=\"dataframe\">\n",
       "  <thead>\n",
       "    <tr style=\"text-align: left;\">\n",
       "      <th>epoch</th>\n",
       "      <th>train_loss</th>\n",
       "      <th>valid_loss</th>\n",
       "      <th>accuracy</th>\n",
       "      <th>time</th>\n",
       "    </tr>\n",
       "  </thead>\n",
       "  <tbody>\n",
       "    <tr>\n",
       "      <td>0</td>\n",
       "      <td>0.513763</td>\n",
       "      <td>0.475906</td>\n",
       "      <td>0.810023</td>\n",
       "      <td>07:05</td>\n",
       "    </tr>\n",
       "  </tbody>\n",
       "</table>"
      ],
      "text/plain": [
       "<IPython.core.display.HTML object>"
      ]
     },
     "metadata": {},
     "output_type": "display_data"
    }
   ],
   "source": [
    "classifier.freeze_to(-3)\n",
    "classifier.fit_one_cycle(1, slice(5e-3/(2.6**4),5e-3), moms=(0.8,0.7))"
   ]
  },
  {
   "cell_type": "code",
   "execution_count": 68,
   "metadata": {},
   "outputs": [],
   "source": [
    "classifier.save('third_clas')"
   ]
  },
  {
   "cell_type": "code",
   "execution_count": 76,
   "metadata": {},
   "outputs": [],
   "source": [
    "classifier.load('third_clas');"
   ]
  },
  {
   "cell_type": "markdown",
   "metadata": {},
   "source": [
    "Unfreezing all layers, the accuracy improves to 82.55%."
   ]
  },
  {
   "cell_type": "code",
   "execution_count": 77,
   "metadata": {},
   "outputs": [
    {
     "data": {
      "text/html": [
       "<table border=\"1\" class=\"dataframe\">\n",
       "  <thead>\n",
       "    <tr style=\"text-align: left;\">\n",
       "      <th>epoch</th>\n",
       "      <th>train_loss</th>\n",
       "      <th>valid_loss</th>\n",
       "      <th>accuracy</th>\n",
       "      <th>time</th>\n",
       "    </tr>\n",
       "  </thead>\n",
       "  <tbody>\n",
       "    <tr>\n",
       "      <td>0</td>\n",
       "      <td>0.459217</td>\n",
       "      <td>0.463719</td>\n",
       "      <td>0.821412</td>\n",
       "      <td>09:53</td>\n",
       "    </tr>\n",
       "    <tr>\n",
       "      <td>1</td>\n",
       "      <td>0.413296</td>\n",
       "      <td>0.452262</td>\n",
       "      <td>0.823690</td>\n",
       "      <td>10:30</td>\n",
       "    </tr>\n",
       "  </tbody>\n",
       "</table>"
      ],
      "text/plain": [
       "<IPython.core.display.HTML object>"
      ]
     },
     "metadata": {},
     "output_type": "display_data"
    }
   ],
   "source": [
    "classifier.unfreeze()\n",
    "classifier.fit_one_cycle(2, slice(1e-3/(2.6**4),1e-3), moms=(0.8,0.7))"
   ]
  },
  {
   "cell_type": "code",
   "execution_count": 78,
   "metadata": {},
   "outputs": [],
   "source": [
    "classifier.save('fourth_clas')"
   ]
  },
  {
   "cell_type": "code",
   "execution_count": 68,
   "metadata": {},
   "outputs": [],
   "source": [
    "classifier.load('fourth_clas');"
   ]
  },
  {
   "cell_type": "code",
   "execution_count": 69,
   "metadata": {},
   "outputs": [
    {
     "data": {
      "text/html": [
       "<table border=\"1\" class=\"dataframe\">\n",
       "  <thead>\n",
       "    <tr style=\"text-align: left;\">\n",
       "      <th>epoch</th>\n",
       "      <th>train_loss</th>\n",
       "      <th>valid_loss</th>\n",
       "      <th>accuracy</th>\n",
       "      <th>time</th>\n",
       "    </tr>\n",
       "  </thead>\n",
       "  <tbody>\n",
       "    <tr>\n",
       "      <td>0</td>\n",
       "      <td>0.422253</td>\n",
       "      <td>0.461683</td>\n",
       "      <td>0.825513</td>\n",
       "      <td>09:17</td>\n",
       "    </tr>\n",
       "  </tbody>\n",
       "</table>"
      ],
      "text/plain": [
       "<IPython.core.display.HTML object>"
      ]
     },
     "metadata": {},
     "output_type": "display_data"
    }
   ],
   "source": [
    "classifier.unfreeze()\n",
    "classifier.fit_one_cycle(1, slice(1e-4/(2.6**4),1e-4), moms=(0.8,0.7))"
   ]
  },
  {
   "cell_type": "code",
   "execution_count": 83,
   "metadata": {},
   "outputs": [],
   "source": [
    "classifier.save('fifth_clas')"
   ]
  },
  {
   "cell_type": "code",
   "execution_count": 62,
   "metadata": {},
   "outputs": [],
   "source": [
    "classifier.load('fifth_clas');"
   ]
  },
  {
   "cell_type": "markdown",
   "metadata": {},
   "source": [
    "## 5.3: Evaluating model and making predictions"
   ]
  },
  {
   "cell_type": "markdown",
   "metadata": {},
   "source": [
    "We can have a go and see how good of a predictor the classifier model is. It does fairly well with predicting a postive review correctly."
   ]
  },
  {
   "cell_type": "code",
   "execution_count": 74,
   "metadata": {},
   "outputs": [
    {
     "data": {
      "text/plain": [
       "(Category tensor(2), tensor(2), tensor([0.1691, 0.1301, 0.7008]))"
      ]
     },
     "execution_count": 74,
     "metadata": {},
     "output_type": "execute_result"
    }
   ],
   "source": [
    "classifier.predict(\"The flight was fairly good.\")"
   ]
  },
  {
   "cell_type": "markdown",
   "metadata": {},
   "source": [
    "I can also plot the confusion matrix as well. It is clear that besides the negative prediction but neutral actual, the model does very well correctly predicting positive, negative and negative reviews."
   ]
  },
  {
   "cell_type": "code",
   "execution_count": 75,
   "metadata": {},
   "outputs": [
    {
     "data": {
      "text/html": [],
      "text/plain": [
       "<IPython.core.display.HTML object>"
      ]
     },
     "metadata": {},
     "output_type": "display_data"
    }
   ],
   "source": [
    "# Prepare Classification Interpreter\n",
    "interpreter = ClassificationInterpretation.from_learner(classifier)"
   ]
  },
  {
   "cell_type": "code",
   "execution_count": 76,
   "metadata": {},
   "outputs": [
    {
     "data": {
      "image/png": "[encoded data removed]",
      "text/plain": [
       "<Figure size 432x288 with 1 Axes>"
      ]
     },
     "metadata": {
      "needs_background": "light"
     },
     "output_type": "display_data"
    }
   ],
   "source": [
    "# Plotting Confusion Matrix\n",
    "interpreter.plot_confusion_matrix()"
   ]
  },
  {
   "cell_type": "markdown",
   "metadata": {},
   "source": [
    "# 6: Conclusions"
   ]
  },
  {
   "cell_type": "markdown",
   "metadata": {},
   "source": [
    "In conclusion, using the supervised ULMFiT model to classify twitter sentiment for US airlines, an accuracy score of 82.55% was achieved. By combining the novel approach of using a pretrained language model AWD-LSTM and transfer deep learning, the achieved model accuracy is comparable to the literature for this particular dataset. Improvements on this classifier model could include that rather than using Wikipedia corpuses as the pretrained model, utilising social media posts such that the Language Model can get used to the casual language and syntax compared to the formal syntax used on Wikipedia. Other improvements could be to factor in the time of day or day of the week the tweet was made. Preliminary EDA results suggested these features can be augmented in such a way to further improve the classifier model. Overall, the model accuracy was quite high and getting more data would only improve the model accuracy in the long run."
   ]
  },
  {
   "cell_type": "markdown",
   "metadata": {},
   "source": [
    "# 7: References\n",
    "\n",
    "\n",
    "\\[1\\] J. Howard and S. Ruder, \"Universal language model fine-tuning for\n",
    "text classification,\" in *ACL 2018 - 56th Annual Meeting of the\n",
    "Association for Computational Linguistics, Proceedings of the Conference\n",
    "(Long Papers)*, 2018. <br>\n",
    "\\[2\\] \"Twitter US Airline Sentiment\n",
    "\\| Kaggle.\" \\[Online\\]. Available:\n",
    "https://www.kaggle.com/crowdflower/twitter-airline-sentiment.\n",
    "\\[Accessed: 6th-Jul-2020\\]. <br>\n",
    "\\[3\\] S. Merity, N. S. Keskar, and R. Socher,\n",
    "\"Regularizing and optimizing LSTM language models,\" in *6th\n",
    "International Conference on Learning Representations, ICLR 2018 -\n",
    "Conference Track Proceedings*, 2018. \n",
    "\n"
   ]
  }
 ],
 "metadata": {
  "kernelspec": {
   "display_name": "Python 3",
   "language": "python",
   "name": "python3"
  },
  "language_info": {
   "codemirror_mode": {
    "name": "ipython",
    "version": 3
   },
   "file_extension": ".py",
   "mimetype": "text/x-python",
   "name": "python",
   "nbconvert_exporter": "python",
   "pygments_lexer": "ipython3",
   "version": "3.7.6"
  }
 },
 "nbformat": 4,
 "nbformat_minor": 4
}
